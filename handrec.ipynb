{
  "nbformat": 4,
  "nbformat_minor": 0,
  "metadata": {
    "colab": {
      "provenance": [],
      "gpuType": "T4",
      "include_colab_link": true
    },
    "kernelspec": {
      "name": "python3",
      "display_name": "Python 3"
    },
    "language_info": {
      "name": "python"
    },
    "accelerator": "GPU"
  },
  "cells": [
    {
      "cell_type": "markdown",
      "metadata": {
        "id": "view-in-github",
        "colab_type": "text"
      },
      "source": [
        "<a href=\"https://colab.research.google.com/github/riyaaaarane/handrec/blob/main/handrec.ipynb\" target=\"_parent\"><img src=\"https://colab.research.google.com/assets/colab-badge.svg\" alt=\"Open In Colab\"/></a>"
      ]
    },
    {
      "cell_type": "code",
      "source": [
        "import gc\n",
        "gc.collect()\n"
      ],
      "metadata": {
        "colab": {
          "base_uri": "https://localhost:8080/"
        },
        "id": "peIiUEgz6lXu",
        "outputId": "42c73cea-b60e-40cc-8098-158ddb61f715"
      },
      "execution_count": 3,
      "outputs": [
        {
          "output_type": "execute_result",
          "data": {
            "text/plain": [
              "8"
            ]
          },
          "metadata": {},
          "execution_count": 3
        }
      ]
    },
    {
      "cell_type": "code",
      "source": [
        "!pip install opendatasets\n",
        "!pip install pandas\n"
      ],
      "metadata": {
        "colab": {
          "base_uri": "https://localhost:8080/"
        },
        "collapsed": true,
        "id": "SJTu1Rs2tSPv",
        "outputId": "9ceb1089-f9eb-49a9-becb-49654d1d6122"
      },
      "execution_count": 4,
      "outputs": [
        {
          "output_type": "stream",
          "name": "stdout",
          "text": [
            "Collecting opendatasets\n",
            "  Downloading opendatasets-0.1.22-py3-none-any.whl.metadata (9.2 kB)\n",
            "Requirement already satisfied: tqdm in /usr/local/lib/python3.11/dist-packages (from opendatasets) (4.67.1)\n",
            "Requirement already satisfied: kaggle in /usr/local/lib/python3.11/dist-packages (from opendatasets) (1.7.4.2)\n",
            "Requirement already satisfied: click in /usr/local/lib/python3.11/dist-packages (from opendatasets) (8.1.8)\n",
            "Requirement already satisfied: bleach in /usr/local/lib/python3.11/dist-packages (from kaggle->opendatasets) (6.2.0)\n",
            "Requirement already satisfied: certifi>=14.05.14 in /usr/local/lib/python3.11/dist-packages (from kaggle->opendatasets) (2025.1.31)\n",
            "Requirement already satisfied: charset-normalizer in /usr/local/lib/python3.11/dist-packages (from kaggle->opendatasets) (3.4.1)\n",
            "Requirement already satisfied: idna in /usr/local/lib/python3.11/dist-packages (from kaggle->opendatasets) (3.10)\n",
            "Requirement already satisfied: protobuf in /usr/local/lib/python3.11/dist-packages (from kaggle->opendatasets) (5.29.3)\n",
            "Requirement already satisfied: python-dateutil>=2.5.3 in /usr/local/lib/python3.11/dist-packages (from kaggle->opendatasets) (2.8.2)\n",
            "Requirement already satisfied: python-slugify in /usr/local/lib/python3.11/dist-packages (from kaggle->opendatasets) (8.0.4)\n",
            "Requirement already satisfied: requests in /usr/local/lib/python3.11/dist-packages (from kaggle->opendatasets) (2.32.3)\n",
            "Requirement already satisfied: setuptools>=21.0.0 in /usr/local/lib/python3.11/dist-packages (from kaggle->opendatasets) (75.1.0)\n",
            "Requirement already satisfied: six>=1.10 in /usr/local/lib/python3.11/dist-packages (from kaggle->opendatasets) (1.17.0)\n",
            "Requirement already satisfied: text-unidecode in /usr/local/lib/python3.11/dist-packages (from kaggle->opendatasets) (1.3)\n",
            "Requirement already satisfied: urllib3>=1.15.1 in /usr/local/lib/python3.11/dist-packages (from kaggle->opendatasets) (2.3.0)\n",
            "Requirement already satisfied: webencodings in /usr/local/lib/python3.11/dist-packages (from kaggle->opendatasets) (0.5.1)\n",
            "Downloading opendatasets-0.1.22-py3-none-any.whl (15 kB)\n",
            "Installing collected packages: opendatasets\n",
            "Successfully installed opendatasets-0.1.22\n",
            "Requirement already satisfied: pandas in /usr/local/lib/python3.11/dist-packages (2.2.2)\n",
            "Requirement already satisfied: numpy>=1.23.2 in /usr/local/lib/python3.11/dist-packages (from pandas) (2.0.2)\n",
            "Requirement already satisfied: python-dateutil>=2.8.2 in /usr/local/lib/python3.11/dist-packages (from pandas) (2.8.2)\n",
            "Requirement already satisfied: pytz>=2020.1 in /usr/local/lib/python3.11/dist-packages (from pandas) (2025.1)\n",
            "Requirement already satisfied: tzdata>=2022.7 in /usr/local/lib/python3.11/dist-packages (from pandas) (2025.1)\n",
            "Requirement already satisfied: six>=1.5 in /usr/local/lib/python3.11/dist-packages (from python-dateutil>=2.8.2->pandas) (1.17.0)\n"
          ]
        }
      ]
    },
    {
      "cell_type": "code",
      "source": [
        "import opendatasets as od\n",
        "import pandas\n",
        "\n",
        "od.download(\n",
        "\t\"https://www.kaggle.com/datasets/grassknoted/asl-alphabet\")\n"
      ],
      "metadata": {
        "colab": {
          "base_uri": "https://localhost:8080/"
        },
        "id": "aQrotadvtsPU",
        "outputId": "1a87d3de-1dd0-4110-aa58-885f3d176013"
      },
      "execution_count": 5,
      "outputs": [
        {
          "output_type": "stream",
          "name": "stdout",
          "text": [
            "Please provide your Kaggle credentials to download this dataset. Learn more: http://bit.ly/kaggle-creds\n",
            "Your Kaggle username: riyaaaarane\n",
            "Your Kaggle Key: ··········\n",
            "Dataset URL: https://www.kaggle.com/datasets/grassknoted/asl-alphabet\n"
          ]
        }
      ]
    },
    {
      "source": [
        "import os # Import the os module\n",
        "DATASET_PATH = \"/content/asl-alphabet/asl_alphabet_train/asl_alphabet_train\"\n",
        "print(\"Dataset contents:\", os.listdir(DATASET_PATH))"
      ],
      "cell_type": "code",
      "metadata": {
        "colab": {
          "base_uri": "https://localhost:8080/"
        },
        "id": "euSNiKRyTdYe",
        "outputId": "91c4dfa3-3c5f-4c9e-875f-139179d89d92"
      },
      "execution_count": 6,
      "outputs": [
        {
          "output_type": "stream",
          "name": "stdout",
          "text": [
            "Dataset contents: ['del', 'J', 'F', 'Z', 'S', 'H', 'Q', 'Y', 'T', 'nothing', 'V', 'B', 'P', 'U', 'L', 'I', 'N', 'M', 'O', 'D', 'X', 'C', 'W', 'K', 'space', 'A', 'R', 'E', 'G']\n"
          ]
        }
      ]
    },
    {
      "cell_type": "code",
      "source": [
        "sample_class = os.path.join(DATASET_PATH, \"A\")  # Replace \"A\" with any folder\n",
        "print(\"Sample Class Folder Contents:\", os.listdir(sample_class))\n"
      ],
      "metadata": {
        "colab": {
          "base_uri": "https://localhost:8080/"
        },
        "id": "r4FVgyud3BWl",
        "outputId": "ea46f274-6f6d-47bd-a9cd-06c09a530405"
      },
      "execution_count": 7,
      "outputs": [
        {
          "output_type": "stream",
          "name": "stdout",
          "text": [
            "Sample Class Folder Contents: ['A1944.jpg', 'A1677.jpg', 'A470.jpg', 'A1483.jpg', 'A1991.jpg', 'A801.jpg', 'A2294.jpg', 'A2291.jpg', 'A2063.jpg', 'A512.jpg', 'A832.jpg', 'A2401.jpg', 'A1348.jpg', 'A1008.jpg', 'A827.jpg', 'A363.jpg', 'A1650.jpg', 'A327.jpg', 'A1737.jpg', 'A1553.jpg', 'A98.jpg', 'A1642.jpg', 'A1298.jpg', 'A1419.jpg', 'A2690.jpg', 'A2559.jpg', 'A2714.jpg', 'A915.jpg', 'A925.jpg', 'A318.jpg', 'A2563.jpg', 'A2658.jpg', 'A468.jpg', 'A1237.jpg', 'A412.jpg', 'A938.jpg', 'A481.jpg', 'A2300.jpg', 'A2696.jpg', 'A1951.jpg', 'A129.jpg', 'A1937.jpg', 'A183.jpg', 'A1130.jpg', 'A1322.jpg', 'A2379.jpg', 'A1907.jpg', 'A2173.jpg', 'A1293.jpg', 'A1496.jpg', 'A790.jpg', 'A972.jpg', 'A1039.jpg', 'A2870.jpg', 'A1311.jpg', 'A768.jpg', 'A2.jpg', 'A726.jpg', 'A952.jpg', 'A1507.jpg', 'A587.jpg', 'A2013.jpg', 'A48.jpg', 'A261.jpg', 'A1594.jpg', 'A2044.jpg', 'A1077.jpg', 'A1558.jpg', 'A2085.jpg', 'A2484.jpg', 'A2989.jpg', 'A1353.jpg', 'A147.jpg', 'A161.jpg', 'A2748.jpg', 'A1382.jpg', 'A2136.jpg', 'A1684.jpg', 'A531.jpg', 'A2719.jpg', 'A2187.jpg', 'A2780.jpg', 'A2407.jpg', 'A2761.jpg', 'A1689.jpg', 'A1474.jpg', 'A1674.jpg', 'A380.jpg', 'A2702.jpg', 'A2147.jpg', 'A559.jpg', 'A10.jpg', 'A1793.jpg', 'A250.jpg', 'A277.jpg', 'A1142.jpg', 'A2139.jpg', 'A2101.jpg', 'A2621.jpg', 'A369.jpg', 'A844.jpg', 'A463.jpg', 'A137.jpg', 'A881.jpg', 'A1791.jpg', 'A2625.jpg', 'A1875.jpg', 'A1083.jpg', 'A1847.jpg', 'A821.jpg', 'A569.jpg', 'A1494.jpg', 'A2887.jpg', 'A1863.jpg', 'A1276.jpg', 'A2029.jpg', 'A1905.jpg', 'A644.jpg', 'A1612.jpg', 'A1913.jpg', 'A2377.jpg', 'A978.jpg', 'A1994.jpg', 'A105.jpg', 'A1625.jpg', 'A1678.jpg', 'A2665.jpg', 'A1908.jpg', 'A1475.jpg', 'A175.jpg', 'A2500.jpg', 'A1363.jpg', 'A527.jpg', 'A1765.jpg', 'A1967.jpg', 'A195.jpg', 'A2998.jpg', 'A2963.jpg', 'A694.jpg', 'A2904.jpg', 'A1206.jpg', 'A1234.jpg', 'A2909.jpg', 'A2297.jpg', 'A820.jpg', 'A1007.jpg', 'A332.jpg', 'A882.jpg', 'A1450.jpg', 'A755.jpg', 'A2604.jpg', 'A597.jpg', 'A2040.jpg', 'A1430.jpg', 'A2037.jpg', 'A1243.jpg', 'A1633.jpg', 'A2043.jpg', 'A2465.jpg', 'A828.jpg', 'A1882.jpg', 'A6.jpg', 'A785.jpg', 'A464.jpg', 'A614.jpg', 'A876.jpg', 'A2478.jpg', 'A1158.jpg', 'A2185.jpg', 'A1730.jpg', 'A1660.jpg', 'A499.jpg', 'A1798.jpg', 'A1168.jpg', 'A1310.jpg', 'A2835.jpg', 'A1920.jpg', 'A2952.jpg', 'A1504.jpg', 'A907.jpg', 'A474.jpg', 'A1611.jpg', 'A351.jpg', 'A517.jpg', 'A2053.jpg', 'A1703.jpg', 'A1529.jpg', 'A635.jpg', 'A2681.jpg', 'A760.jpg', 'A1069.jpg', 'A1186.jpg', 'A316.jpg', 'A1943.jpg', 'A1896.jpg', 'A1816.jpg', 'A287.jpg', 'A267.jpg', 'A1476.jpg', 'A2968.jpg', 'A2535.jpg', 'A160.jpg', 'A1696.jpg', 'A2713.jpg', 'A1117.jpg', 'A1285.jpg', 'A1718.jpg', 'A566.jpg', 'A1215.jpg', 'A2259.jpg', 'A220.jpg', 'A65.jpg', 'A2213.jpg', 'A2920.jpg', 'A547.jpg', 'A2847.jpg', 'A1141.jpg', 'A45.jpg', 'A2072.jpg', 'A2701.jpg', 'A448.jpg', 'A964.jpg', 'A2506.jpg', 'A690.jpg', 'A2570.jpg', 'A2930.jpg', 'A1390.jpg', 'A1104.jpg', 'A2496.jpg', 'A2234.jpg', 'A798.jpg', 'A1855.jpg', 'A2405.jpg', 'A593.jpg', 'A1922.jpg', 'A1395.jpg', 'A1664.jpg', 'A1000.jpg', 'A1620.jpg', 'A1137.jpg', 'A2261.jpg', 'A2482.jpg', 'A1526.jpg', 'A2511.jpg', 'A176.jpg', 'A1135.jpg', 'A2045.jpg', 'A1764.jpg', 'A104.jpg', 'A960.jpg', 'A1617.jpg', 'A2737.jpg', 'A2863.jpg', 'A2613.jpg', 'A1386.jpg', 'A1744.jpg', 'A1376.jpg', 'A1668.jpg', 'A1858.jpg', 'A619.jpg', 'A812.jpg', 'A253.jpg', 'A1959.jpg', 'A1196.jpg', 'A1197.jpg', 'A262.jpg', 'A2525.jpg', 'A701.jpg', 'A1281.jpg', 'A2624.jpg', 'A2824.jpg', 'A2723.jpg', 'A696.jpg', 'A2160.jpg', 'A221.jpg', 'A1433.jpg', 'A2976.jpg', 'A295.jpg', 'A317.jpg', 'A1779.jpg', 'A2672.jpg', 'A2757.jpg', 'A1846.jpg', 'A947.jpg', 'A1843.jpg', 'A1210.jpg', 'A658.jpg', 'A1124.jpg', 'A2149.jpg', 'A1332.jpg', 'A546.jpg', 'A1695.jpg', 'A1581.jpg', 'A432.jpg', 'A898.jpg', 'A776.jpg', 'A1366.jpg', 'A2303.jpg', 'A32.jpg', 'A2689.jpg', 'A2655.jpg', 'A1369.jpg', 'A2632.jpg', 'A723.jpg', 'A610.jpg', 'A2009.jpg', 'A188.jpg', 'A84.jpg', 'A2676.jpg', 'A525.jpg', 'A2184.jpg', 'A2221.jpg', 'A2718.jpg', 'A2058.jpg', 'A1950.jpg', 'A534.jpg', 'A1771.jpg', 'A1486.jpg', 'A775.jpg', 'A401.jpg', 'A874.jpg', 'A1035.jpg', 'A636.jpg', 'A416.jpg', 'A2039.jpg', 'A2391.jpg', 'A1429.jpg', 'A2273.jpg', 'A1275.jpg', 'A1061.jpg', 'A975.jpg', 'A684.jpg', 'A2833.jpg', 'A1315.jpg', 'A411.jpg', 'A1487.jpg', 'A1623.jpg', 'A1025.jpg', 'A1048.jpg', 'A628.jpg', 'A2993.jpg', 'A2088.jpg', 'A2618.jpg', 'A1176.jpg', 'A2226.jpg', 'A782.jpg', 'A2174.jpg', 'A340.jpg', 'A2633.jpg', 'A2466.jpg', 'A2415.jpg', 'A2865.jpg', 'A268.jpg', 'A1539.jpg', 'A979.jpg', 'A2739.jpg', 'A1147.jpg', 'A651.jpg', 'A1313.jpg', 'A646.jpg', 'A630.jpg', 'A2584.jpg', 'A1145.jpg', 'A2806.jpg', 'A993.jpg', 'A2851.jpg', 'A2695.jpg', 'A2707.jpg', 'A1318.jpg', 'A1796.jpg', 'A2490.jpg', 'A2458.jpg', 'A381.jpg', 'A2250.jpg', 'A2775.jpg', 'A2320.jpg', 'A2366.jpg', 'A1748.jpg', 'A1686.jpg', 'A2895.jpg', 'A1820.jpg', 'A637.jpg', 'A1027.jpg', 'A579.jpg', 'A793.jpg', 'A438.jpg', 'A245.jpg', 'A1435.jpg', 'A2247.jpg', 'A668.jpg', 'A2117.jpg', 'A1902.jpg', 'A2845.jpg', 'A1482.jpg', 'A294.jpg', 'A492.jpg', 'A1443.jpg', 'A128.jpg', 'A1881.jpg', 'A122.jpg', 'A2543.jpg', 'A2011.jpg', 'A2927.jpg', 'A119.jpg', 'A1289.jpg', 'A1752.jpg', 'A319.jpg', 'A585.jpg', 'A34.jpg', 'A145.jpg', 'A410.jpg', 'A927.jpg', 'A2330.jpg', 'A158.jpg', 'A2572.jpg', 'A2678.jpg', 'A1826.jpg', 'A1485.jpg', 'A1552.jpg', 'A180.jpg', 'A1357.jpg', 'A2974.jpg', 'A1478.jpg', 'A2232.jpg', 'A225.jpg', 'A493.jpg', 'A706.jpg', 'A515.jpg', 'A1815.jpg', 'A1515.jpg', 'A2456.jpg', 'A2041.jpg', 'A58.jpg', 'A1828.jpg', 'A2156.jpg', 'A1428.jpg', 'A1040.jpg', 'A1772.jpg', 'A1884.jpg', 'A2459.jpg', 'A1644.jpg', 'A2398.jpg', 'A1840.jpg', 'A1794.jpg', 'A1107.jpg', 'A2580.jpg', 'A1334.jpg', 'A896.jpg', 'A7.jpg', 'A2216.jpg', 'A1659.jpg', 'A2057.jpg', 'A528.jpg', 'A945.jpg', 'A1127.jpg', 'A1709.jpg', 'A457.jpg', 'A2617.jpg', 'A757.jpg', 'A1832.jpg', 'A830.jpg', 'A2110.jpg', 'A1621.jpg', 'A2520.jpg', 'A2762.jpg', 'A1111.jpg', 'A2784.jpg', 'A233.jpg', 'A1658.jpg', 'A2820.jpg', 'A693.jpg', 'A1208.jpg', 'A2427.jpg', 'A616.jpg', 'A1312.jpg', 'A157.jpg', 'A2486.jpg', 'A2667.jpg', 'A2799.jpg', 'A434.jpg', 'A2848.jpg', 'A2600.jpg', 'A1156.jpg', 'A1260.jpg', 'A641.jpg', 'A2906.jpg', 'A2373.jpg', 'A2321.jpg', 'A1919.jpg', 'A282.jpg', 'A1105.jpg', 'A1736.jpg', 'A1190.jpg', 'A996.jpg', 'A497.jpg', 'A1099.jpg', 'A856.jpg', 'A3.jpg', 'A530.jpg', 'A2031.jpg', 'A1931.jpg', 'A1120.jpg', 'A906.jpg', 'A330.jpg', 'A278.jpg', 'A989.jpg', 'A2641.jpg', 'A1392.jpg', 'A374.jpg', 'A1949.jpg', 'A2240.jpg', 'A2183.jpg', 'A1269.jpg', 'A2104.jpg', 'A843.jpg', 'A1707.jpg', 'A2929.jpg', 'A838.jpg', 'A2947.jpg', 'A44.jpg', 'A310.jpg', 'A107.jpg', 'A2238.jpg', 'A1138.jpg', 'A263.jpg', 'A1096.jpg', 'A413.jpg', 'A1144.jpg', 'A2132.jpg', 'A274.jpg', 'A839.jpg', 'A427.jpg', 'A2883.jpg', 'A1286.jpg', 'A442.jpg', 'A1854.jpg', 'A452.jpg', 'A1870.jpg', 'A1909.jpg', 'A682.jpg', 'A2742.jpg', 'A165.jpg', 'A1213.jpg', 'A536.jpg', 'A94.jpg', 'A2253.jpg', 'A678.jpg', 'A313.jpg', 'A2626.jpg', 'A1760.jpg', 'A994.jpg', 'A1320.jpg', 'A537.jpg', 'A373.jpg', 'A831.jpg', 'A72.jpg', 'A950.jpg', 'A2445.jpg', 'A688.jpg', 'A2688.jpg', 'A1338.jpg', 'A1940.jpg', 'A364.jpg', 'A2371.jpg', 'A2306.jpg', 'A804.jpg', 'A2464.jpg', 'A1088.jpg', 'A2313.jpg', 'A1070.jpg', 'A47.jpg', 'A1808.jpg', 'A1020.jpg', 'A1715.jpg', 'A1541.jpg', 'A1962.jpg', 'A231.jpg', 'A92.jpg', 'A2394.jpg', 'A1719.jpg', 'A2854.jpg', 'A2034.jpg', 'A1887.jpg', 'A1634.jpg', 'A338.jpg', 'A1377.jpg', 'A2519.jpg', 'A9.jpg', 'A2100.jpg', 'A1783.jpg', 'A1872.jpg', 'A902.jpg', 'A2358.jpg', 'A1119.jpg', 'A303.jpg', 'A1722.jpg', 'A237.jpg', 'A716.jpg', 'A361.jpg', 'A2515.jpg', 'A2363.jpg', 'A1608.jpg', 'A2912.jpg', 'A625.jpg', 'A2959.jpg', 'A2751.jpg', 'A855.jpg', 'A148.jpg', 'A1885.jpg', 'A2277.jpg', 'A163.jpg', 'A2528.jpg', 'A2269.jpg', 'A1015.jpg', 'A2766.jpg', 'A1358.jpg', 'A2836.jpg', 'A1638.jpg', 'A113.jpg', 'A2468.jpg', 'A1942.jpg', 'A745.jpg', 'A2003.jpg', 'A863.jpg', 'A2541.jpg', 'A498.jpg', 'A2314.jpg', 'A2396.jpg', 'A2673.jpg', 'A2068.jpg', 'A1514.jpg', 'A2272.jpg', 'A1183.jpg', 'A371.jpg', 'A2262.jpg', 'A83.jpg', 'A1131.jpg', 'A2692.jpg', 'A786.jpg', 'A2812.jpg', 'A106.jpg', 'A2610.jpg', 'A2642.jpg', 'A1616.jpg', 'A2577.jpg', 'A2853.jpg', 'A479.jpg', 'A230.jpg', 'A526.jpg', 'A2224.jpg', 'A2785.jpg', 'A741.jpg', 'A1272.jpg', 'A1974.jpg', 'A1299.jpg', 'A911.jpg', 'A1304.jpg', 'A728.jpg', 'A321.jpg', 'A341.jpg', 'A280.jpg', 'A1939.jpg', 'A2710.jpg', 'A1574.jpg', 'A2669.jpg', 'A2804.jpg', 'A1607.jpg', 'A1675.jpg', 'A290.jpg', 'A674.jpg', 'A2292.jpg', 'A2933.jpg', 'A2651.jpg', 'A239.jpg', 'A1788.jpg', 'A2794.jpg', 'A2587.jpg', 'A51.jpg', 'A581.jpg', 'A1049.jpg', 'A663.jpg', 'A309.jpg', 'A2808.jpg', 'A1691.jpg', 'A315.jpg', 'A1031.jpg', 'A933.jpg', 'A2433.jpg', 'A226.jpg', 'A813.jpg', 'A1990.jpg', 'A178.jpg', 'A535.jpg', 'A240.jpg', 'A2987.jpg', 'A725.jpg', 'A1167.jpg', 'A2749.jpg', 'A1439.jpg', 'A816.jpg', 'A2383.jpg', 'A808.jpg', 'A2908.jpg', 'A1697.jpg', 'A100.jpg', 'A166.jpg', 'A1004.jpg', 'A323.jpg', 'A1067.jpg', 'A2016.jpg', 'A458.jpg', 'A2687.jpg', 'A523.jpg', 'A2773.jpg', 'A2249.jpg', 'A149.jpg', 'A603.jpg', 'A2205.jpg', 'A2944.jpg', 'A650.jpg', 'A196.jpg', 'A622.jpg', 'A2826.jpg', 'A2115.jpg', 'A2822.jpg', 'A1413.jpg', 'A2414.jpg', 'A383.jpg', 'A2509.jpg', 'A2111.jpg', 'A686.jpg', 'A2002.jpg', 'A2816.jpg', 'A1563.jpg', 'A1527.jpg', 'A1412.jpg', 'A2811.jpg', 'A1340.jpg', 'A1615.jpg', 'A2738.jpg', 'A822.jpg', 'A1739.jpg', 'A1938.jpg', 'A946.jpg', 'A2728.jpg', 'A117.jpg', 'A1499.jpg', 'A398.jpg', 'A275.jpg', 'A1782.jpg', 'A2881.jpg', 'A1073.jpg', 'A2485.jpg', 'A66.jpg', 'A2440.jpg', 'A297.jpg', 'A301.jpg', 'A159.jpg', 'A580.jpg', 'A675.jpg', 'A2708.jpg', 'A1811.jpg', 'A2884.jpg', 'A2341.jpg', 'A2724.jpg', 'A2573.jpg', 'A2323.jpg', 'A886.jpg', 'A2328.jpg', 'A2102.jpg', 'A2498.jpg', 'A2347.jpg', 'A1044.jpg', 'A2745.jpg', 'A2593.jpg', 'A2346.jpg', 'A1740.jpg', 'A143.jpg', 'A1018.jpg', 'A999.jpg', 'A761.jpg', 'A1432.jpg', 'A1848.jpg', 'A1336.jpg', 'A1797.jpg', 'A357.jpg', 'A2734.jpg', 'A1175.jpg', 'A320.jpg', 'A2838.jpg', 'A382.jpg', 'A1501.jpg', 'A1999.jpg', 'A899.jpg', 'A1219.jpg', 'A2418.jpg', 'A591.jpg', 'A1405.jpg', 'A2753.jpg', 'A750.jpg', 'A1656.jpg', 'A2873.jpg', 'A1767.jpg', 'A284.jpg', 'A1952.jpg', 'A540.jpg', 'A1819.jpg', 'A1823.jpg', 'A2983.jpg', 'A2082.jpg', 'A2607.jpg', 'A2165.jpg', 'A1627.jpg', 'A1865.jpg', 'A1724.jpg', 'A314.jpg', 'A2529.jpg', 'A1540.jpg', 'A2650.jpg', 'A1591.jpg', 'A234.jpg', 'A249.jpg', 'A522.jpg', 'A1155.jpg', 'A633.jpg', 'A1807.jpg', 'A2926.jpg', 'A227.jpg', 'A1244.jpg', 'A878.jpg', 'A2752.jpg', 'A638.jpg', 'A1721.jpg', 'A2495.jpg', 'A841.jpg', 'A141.jpg', 'A2781.jpg', 'A17.jpg', 'A570.jpg', 'A931.jpg', 'A538.jpg', 'A2769.jpg', 'A1402.jpg', 'A346.jpg', 'A743.jpg', 'A992.jpg', 'A2443.jpg', 'A2796.jpg', 'A1667.jpg', 'A1714.jpg', 'A1296.jpg', 'A1415.jpg', 'A2473.jpg', 'A2750.jpg', 'A2915.jpg', 'A980.jpg', 'A1716.jpg', 'A2295.jpg', 'A2955.jpg', 'A345.jpg', 'A1773.jpg', 'A1571.jpg', 'A1598.jpg', 'A334.jpg', 'A2230.jpg', 'A2566.jpg', 'A920.jpg', 'A2565.jpg', 'A2424.jpg', 'A2611.jpg', 'A2815.jpg', 'A1878.jpg', 'A502.jpg', 'A2090.jpg', 'A2479.jpg', 'A1806.jpg', 'A1317.jpg', 'A168.jpg', 'A2411.jpg', 'A1513.jpg', 'A483.jpg', 'A2122.jpg', 'A1957.jpg', 'A1626.jpg', 'A749.jpg', 'A331.jpg', 'A1463.jpg', 'A1738.jpg', 'A276.jpg', 'A1058.jpg', 'A2894.jpg', 'A400.jpg', 'A1592.jpg', 'A1171.jpg', 'A150.jpg', 'A1874.jpg', 'A2957.jpg', 'A397.jpg', 'A1746.jpg', 'A20.jpg', 'A1438.jpg', 'A778.jpg', 'A2163.jpg', 'A1814.jpg', 'A921.jpg', 'A1647.jpg', 'A671.jpg', 'A2159.jpg', 'A1743.jpg', 'A1361.jpg', 'A2385.jpg', 'A1251.jpg', 'A2615.jpg', 'A2684.jpg', 'A1810.jpg', 'A973.jpg', 'A2069.jpg', 'A132.jpg', 'A2229.jpg', 'A2275.jpg', 'A2791.jpg', 'A386.jpg', 'A2653.jpg', 'A1329.jpg', 'A966.jpg', 'A2193.jpg', 'A2518.jpg', 'A884.jpg', 'A353.jpg', 'A2308.jpg', 'A173.jpg', 'A118.jpg', 'A387.jpg', 'A1955.jpg', 'A1404.jpg', 'A1159.jpg', 'A2476.jpg', 'A210.jpg', 'A825.jpg', 'A2866.jpg', 'A770.jpg', 'A170.jpg', 'A1259.jpg', 'A1899.jpg', 'A655.jpg', 'A451.jpg', 'A207.jpg', 'A2151.jpg', 'A666.jpg', 'A2452.jpg', 'A1406.jpg', 'A1831.jpg', 'A867.jpg', 'A1958.jpg', 'A1062.jpg', 'A1753.jpg', 'A2399.jpg', 'A2807.jpg', 'A1984.jpg', 'A1129.jpg', 'A2527.jpg', 'A1536.jpg', 'A1857.jpg', 'A1973.jpg', 'A875.jpg', 'A2872.jpg', 'A2239.jpg', 'A2274.jpg', 'A2087.jpg', 'A2311.jpg', 'A1373.jpg', 'A496.jpg', 'A595.jpg', 'A539.jpg', 'A1838.jpg', 'A1239.jpg', 'A2850.jpg', 'A2727.jpg', 'A1125.jpg', 'A1071.jpg', 'A283.jpg', 'A445.jpg', 'A1723.jpg', 'A2652.jpg', 'A1945.jpg', 'A3000.jpg', 'A1355.jpg', 'A73.jpg', 'A1273.jpg', 'A2923.jpg', 'A255.jpg', 'A1774.jpg', 'A2553.jpg', 'A895.jpg', 'A242.jpg', 'A2164.jpg', 'A1948.jpg', 'A2388.jpg', 'A2356.jpg', 'A2674.jpg', 'A572.jpg', 'A1768.jpg', 'A2367.jpg', 'A110.jpg', 'A1655.jpg', 'A1284.jpg', 'A306.jpg', 'A2302.jpg', 'A894.jpg', 'A1252.jpg', 'A414.jpg', 'A2137.jpg', 'A1229.jpg', 'A1610.jpg', 'A2121.jpg', 'A359.jpg', 'A144.jpg', 'A31.jpg', 'A2112.jpg', 'A2736.jpg', 'A1341.jpg', 'A2099.jpg', 'A1934.jpg', 'A1426.jpg', 'A2257.jpg', 'A37.jpg', 'A2589.jpg', 'A1834.jpg', 'A2083.jpg', 'A2638.jpg', 'A739.jpg', 'A1149.jpg', 'A1093.jpg', 'A1849.jpg', 'A2579.jpg', 'A2126.jpg', 'A1393.jpg', 'A987.jpg', 'A1956.jpg', 'A2499.jpg', 'A1519.jpg', 'A2189.jpg', 'A2032.jpg', 'A555.jpg', 'A1873.jpg', 'A568.jpg', 'A669.jpg', 'A2140.jpg', 'A190.jpg', 'A1498.jpg', 'A466.jpg', 'A974.jpg', 'A1266.jpg', 'A354.jpg', 'A2010.jpg', 'A2228.jpg', 'A171.jpg', 'A1479.jpg', 'A1524.jpg', 'A503.jpg', 'A1169.jpg', 'A1817.jpg', 'A2215.jpg', 'A1682.jpg', 'A2412.jpg', 'A2805.jpg', 'A1173.jpg', 'A561.jpg', 'A1227.jpg', 'A1240.jpg', 'A2198.jpg', 'A1265.jpg', 'A2552.jpg', 'A2671.jpg', 'A206.jpg', 'A2344.jpg', 'A2355.jpg', 'A762.jpg', 'A2073.jpg', 'A2105.jpg', 'A138.jpg', 'A2940.jpg', 'A1418.jpg', 'A2864.jpg', 'A292.jpg', 'A2191.jpg', 'A1241.jpg', 'A2169.jpg', 'A2961.jpg', 'A1193.jpg', 'A1604.jpg', 'A2546.jpg', 'A773.jpg', 'A656.jpg', 'A88.jpg', 'A167.jpg', 'A2470.jpg', 'A914.jpg', 'A441.jpg', 'A1006.jpg', 'A304.jpg', 'A2181.jpg', 'A2599.jpg', 'A1324.jpg', 'A1923.jpg', 'A1115.jpg', 'A86.jpg', 'A1968.jpg', 'A1971.jpg', 'A1100.jpg', 'A949.jpg', 'A131.jpg', 'A1603.jpg', 'A652.jpg', 'A2084.jpg', 'A286.jpg', 'A1214.jpg', 'A1278.jpg', 'A2644.jpg', 'A866.jpg', 'A142.jpg', 'A2858.jpg', 'A124.jpg', 'A2741.jpg', 'A308.jpg', 'A1461.jpg', 'A1892.jpg', 'A2603.jpg', 'A1543.jpg', 'A1394.jpg', 'A1827.jpg', 'A2369.jpg', 'A506.jpg', 'A1516.jpg', 'A1868.jpg', 'A19.jpg', 'A748.jpg', 'A378.jpg', 'A1106.jpg', 'A2052.jpg', 'A2386.jpg', 'A396.jpg', 'A1631.jpg', 'A615.jpg', 'A1103.jpg', 'A2062.jpg', 'A1538.jpg', 'A718.jpg', 'A1201.jpg', 'A1154.jpg', 'A202.jpg', 'A1912.jpg', 'A1704.jpg', 'A709.jpg', 'A2629.jpg', 'A1116.jpg', 'A404.jpg', 'A2360.jpg', 'A2700.jpg', 'A1356.jpg', 'A2861.jpg', 'A509.jpg', 'A289.jpg', 'A11.jpg', 'A2317.jpg', 'A919.jpg', 'A2867.jpg', 'A244.jpg', 'A1245.jpg', 'A1095.jpg', 'A2818.jpg', 'A1800.jpg', 'A273.jpg', 'A1055.jpg', 'A588.jpg', 'A1028.jpg', 'A2065.jpg', 'A861.jpg', 'A1672.jpg', 'A436.jpg', 'A1606.jpg', 'A2196.jpg', 'A1302.jpg', 'A742.jpg', 'A365.jpg', 'A2192.jpg', 'A1946.jpg', 'A146.jpg', 'A53.jpg', 'A62.jpg', 'A70.jpg', 'A2471.jpg', 'A807.jpg', 'A2756.jpg', 'A869.jpg', 'A607.jpg', 'A2219.jpg', 'A1822.jpg', 'A2899.jpg', 'A2312.jpg', 'A888.jpg', 'A2393.jpg', 'A2305.jpg', 'A2787.jpg', 'A1268.jpg', 'A1057.jpg', 'A1003.jpg', 'A721.jpg', 'A2050.jpg', 'A954.jpg', 'A433.jpg', 'A2338.jpg', 'A842.jpg', 'A2819.jpg', 'A337.jpg', 'A2001.jpg', 'A715.jpg', 'A2125.jpg', 'A2821.jpg', 'A1347.jpg', 'A87.jpg', 'A1059.jpg', 'A91.jpg', 'A1097.jpg', 'A2432.jpg', 'A2410.jpg', 'A2740.jpg', 'A2145.jpg', 'A2840.jpg', 'A2888.jpg', 'A2434.jpg', 'A2733.jpg', 'A1998.jpg', 'A2839.jpg', 'A1663.jpg', 'A1300.jpg', 'A1544.jpg', 'A640.jpg', 'A1778.jpg', 'A1195.jpg', 'A1257.jpg', 'A951.jpg', 'A36.jpg', 'A64.jpg', 'A1101.jpg', 'A2539.jpg', 'A2202.jpg', 'A1602.jpg', 'A2055.jpg', 'A2051.jpg', 'A1440.jpg', 'A2917.jpg', 'A405.jpg', 'A1261.jpg', 'A767.jpg', 'A1493.jpg', 'A1398.jpg', 'A2231.jpg', 'A1906.jpg', 'A1223.jpg', 'A608.jpg', 'A1630.jpg', 'A2778.jpg', 'A1662.jpg', 'A1900.jpg', 'A1564.jpg', 'A1263.jpg', 'A1448.jpg', 'A1134.jpg', 'A1451.jpg', 'A826.jpg', 'A375.jpg', 'A1360.jpg', 'A1790.jpg', 'A49.jpg', 'A1050.jpg', 'A111.jpg', 'A2263.jpg', 'A2392.jpg', 'A2666.jpg', 'A439.jpg', 'A913.jpg', 'A2251.jpg', 'A617.jpg', 'A120.jpg', 'A407.jpg', 'A2380.jpg', 'A586.jpg', 'A2014.jpg', 'A2206.jpg', 'A2725.jpg', 'A792.jpg', 'A2279.jpg', 'A1531.jpg', 'A2913.jpg', 'A415.jpg', 'A2161.jpg', 'A467.jpg', 'A2450.jpg', 'A2705.jpg', 'A1693.jpg', 'A1391.jpg', 'A2336.jpg', 'A1535.jpg', 'A39.jpg', 'A2999.jpg', 'A2400.jpg', 'A1970.jpg', 'A2557.jpg', 'A228.jpg', 'A1893.jpg', 'A1417.jpg', 'A199.jpg', 'A2675.jpg', 'A1756.jpg', 'A794.jpg', 'A1262.jpg', 'A15.jpg', 'A643.jpg', 'A1194.jpg', 'A2531.jpg', 'A1017.jpg', 'A939.jpg', 'A2729.jpg', 'A1397.jpg', 'A1253.jpg', 'A590.jpg', 'A2538.jpg', 'A1862.jpg', 'A1551.jpg', 'A2965.jpg', 'A2460.jpg', 'A1836.jpg', 'A1637.jpg', 'A680.jpg', 'A852.jpg', 'A368.jpg', 'A521.jpg', 'A766.jpg', 'A186.jpg', 'A2942.jpg', 'A2508.jpg', 'A510.jpg', 'A1162.jpg', 'A2175.jpg', 'A2288.jpg', 'A2743.jpg', 'A14.jpg', 'A1918.jpg', 'A1242.jpg', 'A2255.jpg', 'A1877.jpg', 'A136.jpg', 'A55.jpg', 'A1023.jpg', 'A2293.jpg', 'A2134.jpg', 'A1188.jpg', 'A2036.jpg', 'A1344.jpg', 'A2453.jpg', 'A409.jpg', 'A1126.jpg', 'A814.jpg', 'A1521.jpg', 'A1221.jpg', 'A1383.jpg', 'A692.jpg', 'A2144.jpg', 'A916.jpg', 'A1679.jpg', 'A991.jpg', 'A2646.jpg', 'A151.jpg', 'A325.jpg', 'A2856.jpg', 'A548.jpg', 'A571.jpg', 'A2634.jpg', 'A169.jpg', 'A1224.jpg', 'A1694.jpg', 'A203.jpg', 'A753.jpg', 'A2583.jpg', 'A2021.jpg', 'A731.jpg', 'A1178.jpg', 'A2978.jpg', 'A1431.jpg', 'A85.jpg', 'A2922.jpg', 'A551.jpg', 'A2970.jpg', 'A853.jpg', 'A1087.jpg', 'A2246.jpg', 'A2721.jpg', 'A1041.jpg', 'A1459.jpg', 'A556.jpg', 'A2194.jpg', 'A683.jpg', 'A738.jpg', 'A2135.jpg', 'A2337.jpg', 'A2627.jpg', 'A877.jpg', 'A1989.jpg', 'A2449.jpg', 'A1481.jpg', 'A2066.jpg', 'A1066.jpg', 'A699.jpg', 'A2948.jpg', 'A212.jpg', 'A126.jpg', 'A241.jpg', 'A1933.jpg', 'A795.jpg', 'A2730.jpg', 'A811.jpg', 'A2109.jpg', 'A1845.jpg', 'A1282.jpg', 'A1351.jpg', 'A2152.jpg', 'A909.jpg', 'A1992.jpg', 'A1979.jpg', 'A2054.jpg', 'A2946.jpg', 'A1799.jpg', 'A2389.jpg', 'A2481.jpg', 'A1462.jpg', 'A943.jpg', 'A2200.jpg', 'A2429.jpg', 'A218.jpg', 'A2706.jpg', 'A862.jpg', 'A2209.jpg', 'A563.jpg', 'A2918.jpg', 'A2403.jpg', 'A1151.jpg', 'A1898.jpg', 'A69.jpg', 'A1076.jpg', 'A193.jpg', 'A1676.jpg', 'A1060.jpg', 'A46.jpg', 'A1084.jpg', 'A24.jpg', 'A2735.jpg', 'A817.jpg', 'A799.jpg', 'A213.jpg', 'A449.jpg', 'A1549.jpg', 'A1879.jpg', 'A1314.jpg', 'A2487.jpg', 'A1805.jpg', 'A2214.jpg', 'A1109.jpg', 'A461.jpg', 'A1537.jpg', 'A462.jpg', 'A937.jpg', 'A370.jpg', 'A2910.jpg', 'A2594.jpg', 'A1720.jpg', 'A1628.jpg', 'A2664.jpg', 'A703.jpg', 'A269.jpg', 'A2960.jpg', 'A2997.jpg', 'A298.jpg', 'A1279.jpg', 'A601.jpg', 'A444.jpg', 'A2225.jpg', 'A970.jpg', 'A746.jpg', 'A626.jpg', 'A1381.jpg', 'A1445.jpg', 'A774.jpg', 'A1038.jpg', 'A471.jpg', 'A2834.jpg', 'A1152.jpg', 'A248.jpg', 'A1876.jpg', 'A2469.jpg', 'A2501.jpg', 'A1256.jpg', 'A2954.jpg', 'A2402.jpg', 'A473.jpg', 'A2786.jpg', 'A2886.jpg', 'A1371.jpg', 'A903.jpg', 'A612.jpg', 'A1803.jpg', 'A1191.jpg', 'A2212.jpg', 'A4.jpg', 'A8.jpg', 'A307.jpg', 'A1692.jpg', 'A1586.jpg', 'A2142.jpg', 'A576.jpg', 'A50.jpg', 'A918.jpg', 'A2349.jpg', 'A2903.jpg', 'A533.jpg', 'A2720.jpg', 'A2491.jpg', 'A1471.jpg', 'A1809.jpg', 'A328.jpg', 'A1326.jpg', 'A897.jpg', 'A391.jpg', 'A2103.jpg', 'A1750.jpg', 'A288.jpg', 'A2879.jpg', 'A1853.jpg', 'A1510.jpg', 'A2616.jpg', 'A1457.jpg', 'A343.jpg', 'A1319.jpg', 'A2767.jpg', 'A385.jpg', 'A1910.jpg', 'A116.jpg', 'A2285.jpg', 'A2157.jpg', 'A2550.jpg', 'A1593.jpg', 'A2842.jpg', 'A281.jpg', 'A1458.jpg', 'A1915.jpg', 'A1511.jpg', 'A258.jpg', 'A609.jpg', 'A823.jpg', 'A1996.jpg', 'A1725.jpg', 'A1657.jpg', 'A1235.jpg', 'A880.jpg', 'A2454.jpg', 'A2931.jpg', 'A2108.jpg', 'A204.jpg', 'A1247.jpg', 'A2569.jpg', 'A1930.jpg', 'A1291.jpg', 'A1047.jpg', 'A948.jpg', 'A322.jpg', 'A2661.jpg', 'A2493.jpg', 'A1573.jpg', 'A1295.jpg', 'A788.jpg', 'A2027.jpg', 'A2953.jpg', 'A501.jpg', 'A1859.jpg', 'A647.jpg', 'A1043.jpg', 'A672.jpg', 'A60.jpg', 'A1926.jpg', 'A1941.jpg', 'A2975.jpg', 'A744.jpg', 'A115.jpg', 'A1897.jpg', 'A285.jpg', 'A1653.jpg', 'A2201.jpg', 'A1078.jpg', 'A2716.jpg', 'A883.jpg', 'A747.jpg', 'A2127.jpg', 'A930.jpg', 'A22.jpg', 'A2271.jpg', 'A2809.jpg', 'A1181.jpg', 'A976.jpg', 'A2996.jpg', 'A455.jpg', 'A552.jpg', 'A78.jpg', 'A2335.jpg', 'A985.jpg', 'A1359.jpg', 'A1670.jpg', 'A256.jpg', 'A2431.jpg', 'A1166.jpg', 'A1316.jpg', 'A2722.jpg', 'A2395.jpg', 'A575.jpg', 'A1484.jpg', 'A789.jpg', 'A1328.jpg', 'A1216.jpg', 'A736.jpg', 'A834.jpg', 'A2921.jpg', 'A214.jpg', 'A2795.jpg', 'A2763.jpg', 'A1755.jpg', 'A2614.jpg', 'A1034.jpg', 'A1001.jpg', 'A154.jpg', 'A35.jpg', 'A2248.jpg', 'A1211.jpg', 'A2260.jpg', 'A299.jpg', 'A1022.jpg', 'A2060.jpg', 'A2236.jpg', 'A1833.jpg', 'A1624.jpg', 'A573.jpg', 'A393.jpg', 'A2882.jpg', 'A1708.jpg', 'A223.jpg', 'A2435.jpg', 'A2654.jpg', 'A1280.jpg', 'A1468.jpg', 'A1321.jpg', 'A520.jpg', 'A2699.jpg', 'A1580.jpg', 'A986.jpg', 'A779.jpg', 'A1133.jpg', 'A2078.jpg', 'A2093.jpg', 'A2567.jpg', 'A2657.jpg', 'A1747.jpg', 'A1932.jpg', 'A350.jpg', 'A217.jpg', 'A2964.jpg', 'A2521.jpg', 'A211.jpg', 'A185.jpg', 'A2801.jpg', 'A194.jpg', 'A1228.jpg', 'A2596.jpg', 'A1812.jpg', 'A352.jpg', 'A2077.jpg', 'A847.jpg', 'A2233.jpg', 'A1559.jpg', 'A1217.jpg', 'A2353.jpg', 'A891.jpg', 'A567.jpg', 'A1416.jpg', 'A1114.jpg', 'A2932.jpg', 'A2849.jpg', 'A1727.jpg', 'A1629.jpg', 'A1379.jpg', 'A67.jpg', 'A43.jpg', 'A2141.jpg', 'A2012.jpg', 'A805.jpg', 'A1975.jpg', 'A1472.jpg', 'A1258.jpg', 'A2951.jpg', 'A1560.jpg', 'A667.jpg', 'A2776.jpg', 'A513.jpg', 'A574.jpg', 'A1264.jpg', 'A2333.jpg', 'A777.jpg', 'A1165.jpg', 'A2585.jpg', 'A1436.jpg', 'A1685.jpg', 'A2472.jpg', 'A1947.jpg', 'A1824.jpg', 'A2516.jpg', 'A2602.jpg', 'A627.jpg', 'A2980.jpg', 'A2095.jpg', 'A79.jpg', 'A2370.jpg', 'A2542.jpg', 'A872.jpg', 'A2309.jpg', 'A2217.jpg', 'A2188.jpg', 'A2502.jpg', 'A2890.jpg', 'A2220.jpg', 'A961.jpg', 'A428.jpg', 'A1411.jpg', 'A2630.jpg', 'A2283.jpg', 'A2802.jpg', 'A2076.jpg', 'A1052.jpg', 'A957.jpg', 'A1160.jpg', 'A819.jpg', 'A1652.jpg', 'A2533.jpg', 'A935.jpg', 'A1231.jpg', 'A312.jpg', 'A879.jpg', 'A2789.jpg', 'A2280.jpg', 'A802.jpg', 'A2612.jpg', 'A2096.jpg', 'A2956.jpg', 'A928.jpg', 'A2342.jpg', 'A1928.jpg', 'A1447.jpg', 'A1785.jpg', 'A700.jpg', 'A2523.jpg', 'A2797.jpg', 'A1572.jpg', 'A840.jpg', 'A1997.jpg', 'A1362.jpg', 'A1565.jpg', 'A2682.jpg', 'A342.jpg', 'A1153.jpg', 'A848.jpg', 'A1921.jpg', 'A1503.jpg', 'A1762.jpg', 'A1255.jpg', 'A2855.jpg', 'A2943.jpg', 'A1763.jpg', 'A1491.jpg', 'A659.jpg', 'A2463.jpg', 'A621.jpg', 'A1014.jpg', 'A2513.jpg', 'A1566.jpg', 'A2548.jpg', 'A2304.jpg', 'A1556.jpg', 'A2000.jpg', 'A1742.jpg', 'A2241.jpg', 'A2180.jpg', 'A529.jpg', 'A955.jpg', 'A101.jpg', 'A1277.jpg', 'A2679.jpg', 'A1399.jpg', 'A102.jpg', 'A1139.jpg', 'A1735.jpg', 'A1705.jpg', 'A1886.jpg', 'A1161.jpg', 'A704.jpg', 'A871.jpg', 'A2979.jpg', 'A1225.jpg', 'A2581.jpg', 'A2352.jpg', 'A740.jpg', 'A1745.jpg', 'A2503.jpg', 'A272.jpg', 'A2462.jpg', 'A833.jpg', 'A2962.jpg', 'A2026.jpg', 'A2365.jpg', 'A134.jpg', 'A2451.jpg', 'A611.jpg', 'A1866.jpg', 'A2874.jpg', 'A1911.jpg', 'A1051.jpg', 'A82.jpg', 'A2375.jpg', 'A865.jpg', 'A1254.jpg', 'A2598.jpg', 'A1567.jpg', 'A2007.jpg', 'A657.jpg', 'A2348.jpg', 'A93.jpg', 'A2972.jpg', 'A2020.jpg', 'A1400.jpg', 'A347.jpg', 'A2586.jpg', 'A2480.jpg', 'A791.jpg', 'A2019.jpg', 'A1408.jpg', 'A2792.jpg', 'A2900.jpg', 'A824.jpg', 'A460.jpg', 'A2130.jpg', 'A2704.jpg', 'A901.jpg', 'A2301.jpg', 'A2327.jpg', 'A1307.jpg', 'A475.jpg', 'A246.jpg', 'A665.jpg', 'A1207.jpg', 'A1290.jpg', 'A2551.jpg', 'A125.jpg', 'A40.jpg', 'A2270.jpg', 'A1063.jpg', 'A1614.jpg', 'A942.jpg', 'A1414.jpg', 'A2207.jpg', 'A2162.jpg', 'A2544.jpg', 'A2372.jpg', 'A1346.jpg', 'A2779.jpg', 'A2939.jpg', 'A1780.jpg', 'A2086.jpg', 'A1680.jpg', 'A1867.jpg', 'A730.jpg', 'A1343.jpg', 'A1065.jpg', 'A1170.jpg', 'A423.jpg', 'A2536.jpg', 'A1880.jpg', 'A59.jpg', 'A1375.jpg', 'A1770.jpg', 'A2648.jpg', 'A2758.jpg', 'A2008.jpg', 'A355.jpg', 'A2810.jpg', 'A2524.jpg', 'A2079.jpg', 'A2860.jpg', 'A329.jpg', 'A1590.jpg', 'A1548.jpg', 'A845.jpg', 'A2828.jpg', 'A912.jpg', 'A254.jpg', 'A2562.jpg', 'A1837.jpg', 'A41.jpg', 'A2591.jpg', 'A2645.jpg', 'A2332.jpg', 'A1648.jpg', 'A1988.jpg', 'A344.jpg', 'A1632.jpg', 'A1754.jpg', 'A2564.jpg', 'A2609.jpg', 'A849.jpg', 'A565.jpg', 'A1068.jpg', 'A63.jpg', 'A1980.jpg', 'A769.jpg', 'A1687.jpg', 'A454.jpg', 'A2208.jpg', 'A1777.jpg', 'A1505.jpg', 'A2817.jpg', 'A1965.jpg', 'A1711.jpg', 'A1961.jpg', 'A2190.jpg', 'A1407.jpg', 'A1649.jpg', 'A756.jpg', 'A2556.jpg', 'A1464.jpg', 'A1645.jpg', 'A1308.jpg', 'A2971.jpg', 'A1233.jpg', 'A2118.jpg', 'A2841.jpg', 'A924.jpg', 'A990.jpg', 'A152.jpg', 'A1651.jpg', 'A1150.jpg', 'A516.jpg', 'A1495.jpg', 'A1157.jpg', 'A2549.jpg', 'A713.jpg', 'A2421.jpg', 'A389.jpg', 'A1092.jpg', 'A661.jpg', 'A1372.jpg', 'A1460.jpg', 'A850.jpg', 'A2461.jpg', 'A1986.jpg', 'A2982.jpg', 'A2177.jpg', 'A2106.jpg', 'A1019.jpg', 'A2639.jpg', 'A649.jpg', 'A796.jpg', 'A2268.jpg', 'A75.jpg', 'A2064.jpg', 'A1993.jpg', 'A2605.jpg', 'A1578.jpg', 'A1012.jpg', 'A2694.jpg', 'A2588.jpg', 'A2171.jpg', 'A2711.jpg', 'A1102.jpg', 'A358.jpg', 'A18.jpg', 'A1508.jpg', 'A490.jpg', 'A2475.jpg', 'A2416.jpg', 'A1597.jpg', 'A2204.jpg', 'A2893.jpg', 'A1509.jpg', 'A2647.jpg', 'A2859.jpg', 'A1895.jpg', 'A1851.jpg', 'A2608.jpg', 'A1045.jpg', 'A1323.jpg', 'A266.jpg', 'A97.jpg', 'A2326.jpg', 'A1250.jpg', 'A2830.jpg', 'A1209.jpg', 'A707.jpg', 'A1200.jpg', 'A2703.jpg', 'A2907.jpg', 'A2345.jpg', 'A2857.jpg', 'A1804.jpg', 'A2925.jpg', 'A1818.jpg', 'A1622.jpg', 'A235.jpg', 'A61.jpg', 'A549.jpg', 'A349.jpg', 'A2891.jpg', 'A1547.jpg', 'A890.jpg', 'A1609.jpg', 'A2143.jpg', 'A2408.jpg', 'A2404.jpg', 'A2025.jpg', 'A1733.jpg', 'A670.jpg', 'A476.jpg', 'A870.jpg', 'A54.jpg', 'A660.jpg', 'A140.jpg', 'A1248.jpg', 'A1665.jpg', 'A969.jpg', 'A2914.jpg', 'A1795.jpg', 'A2534.jpg', 'A2254.jpg', 'A2477.jpg', 'A1978.jpg', 'A2662.jpg', 'A2223.jpg', 'A958.jpg', 'A1681.jpg', 'A2777.jpg', 'A25.jpg', 'A2709.jpg', 'A181.jpg', 'A1497.jpg', 'A1813.jpg', 'A2726.jpg', 'A184.jpg', 'A2649.jpg', 'A2988.jpg', 'A558.jpg', 'A687.jpg', 'A209.jpg', 'A764.jpg', 'A2668.jpg', 'A1712.jpg', 'A1333.jpg', 'A1976.jpg', 'A2969.jpg', 'A2091.jpg', 'A2530.jpg', 'A324.jpg', 'A2390.jpg', 'A2656.jpg', 'A1728.jpg', 'A2381.jpg', 'A23.jpg', 'A1643.jpg', 'A16.jpg', 'A1294.jpg', 'A702.jpg', 'A1924.jpg', 'A2384.jpg', 'A1925.jpg', 'A426.jpg', 'A417.jpg', 'A485.jpg', 'A191.jpg', 'A2114.jpg', 'A2825.jpg', 'A2218.jpg', 'A305.jpg', 'A1042.jpg', 'A2437.jpg', 'A900.jpg', 'A1212.jpg', 'A2318.jpg', 'A1389.jpg', 'A302.jpg', 'A618.jpg', 'A2984.jpg', 'A1325.jpg', 'A2457.jpg', 'A2949.jpg', 'A198.jpg', 'A2049.jpg', 'A2889.jpg', 'A705.jpg', 'A472.jpg', 'A1861.jpg', 'A771.jpg', 'A2364.jpg', 'A1839.jpg', 'A2227.jpg', 'A605.jpg', 'A2852.jpg', 'A2995.jpg', 'A648.jpg', 'A2116.jpg', 'A1425.jpg', 'A2623.jpg', 'A2981.jpg', 'A629.jpg', 'A2089.jpg', 'A956.jpg', 'A1354.jpg', 'A155.jpg', 'A114.jpg', 'A1267.jpg', 'A983.jpg', 'A1164.jpg', 'A2837.jpg', 'A1981.jpg', 'A859.jpg', 'A1270.jpg', 'A1914.jpg', 'A1420.jpg', 'A1666.jpg', 'A2242.jpg', 'A133.jpg', 'A2731.jpg', 'A577.jpg', 'A2406.jpg', 'A2120.jpg', 'A2765.jpg', 'A2056.jpg', 'A507.jpg', 'A2258.jpg', 'A1385.jpg', 'A1423.jpg', 'A2331.jpg', 'A1869.jpg', 'A12.jpg', 'A2862.jpg', 'A2875.jpg', 'A818.jpg', 'A934.jpg', 'A2211.jpg', 'A1619.jpg', 'A1717.jpg', 'A1583.jpg', 'A1122.jpg', 'A2442.jpg', 'A1249.jpg', 'A1732.jpg', 'A1226.jpg', 'A1074.jpg', 'A1292.jpg', 'A1345.jpg', 'A2522.jpg', 'A679.jpg', 'A1331.jpg', 'A2945.jpg', 'A2620.jpg', 'A2133.jpg', 'A837.jpg', 'A360.jpg', 'A424.jpg', 'A2286.jpg', 'A2017.jpg', 'A2640.jpg', 'A2210.jpg', 'A1146.jpg', 'A2166.jpg', 'A189.jpg', 'A1671.jpg', 'A2798.jpg', 'A2680.jpg', 'A2770.jpg', 'A846.jpg', 'A1456.jpg', 'A1751.jpg', 'A1636.jpg', 'A2967.jpg', 'A2420.jpg', 'A2397.jpg', 'A418.jpg', 'A1421.jpg', 'A2387.jpg', 'A1441.jpg', 'A836.jpg', 'A2832.jpg', 'A1890.jpg', 'A2092.jpg', 'A2097.jpg', 'A2138.jpg', 'A514.jpg', 'A720.jpg', 'A1787.jpg', 'A733.jpg', 'A620.jpg', 'A216.jpg', 'A2919.jpg', 'A1128.jpg', 'A1005.jpg', 'A2237.jpg', 'A904.jpg', 'A695.jpg', 'A1442.jpg', 'A1901.jpg', 'A1467.jpg', 'A27.jpg', 'A1424.jpg', 'A2150.jpg', 'A177.jpg', 'A1309.jpg', 'A2423.jpg', 'A1518.jpg', 'A759.jpg', 'A1374.jpg', 'A2359.jpg', 'A1741.jpg', 'A2436.jpg', 'A1352.jpg', 'A172.jpg', 'A388.jpg', 'A780.jpg', 'A2265.jpg', 'A1698.jpg', 'A1969.jpg', 'A560.jpg', 'A1555.jpg', 'A1010.jpg', 'A2005.jpg', 'A238.jpg', 'A21.jpg', 'A851.jpg', 'A1452.jpg', 'A1557.jpg', 'A2446.jpg', 'A1542.jpg', 'A1688.jpg', 'A1726.jpg', 'A2670.jpg', 'A38.jpg', 'A1916.jpg', 'A2606.jpg', 'A2760.jpg', 'A259.jpg', 'A2660.jpg', 'A243.jpg', 'A1871.jpg', 'A1749.jpg', 'A708.jpg', 'A1561.jpg', 'A734.jpg', 'A2635.jpg', 'A1370.jpg', 'A2790.jpg', 'A1904.jpg', 'A1562.jpg', 'A1570.jpg', 'A2070.jpg', 'A1935.jpg', 'A1489.jpg', 'A2897.jpg', 'A2441.jpg', 'A296.jpg', 'A2844.jpg', 'A711.jpg', 'A2015.jpg', 'A2636.jpg', 'A1588.jpg', 'A1821.jpg', 'A2578.jpg', 'A963.jpg', 'A2129.jpg', 'A800.jpg', 'A487.jpg', 'A2697.jpg', 'A557.jpg', 'A2782.jpg', 'A965.jpg', 'A201.jpg', 'A1891.jpg', 'A1434.jpg', 'A1177.jpg', 'A443.jpg', 'A2514.jpg', 'A1844.jpg', 'A2497.jpg', 'A2512.jpg', 'A2276.jpg', 'A719.jpg', 'A729.jpg', 'A1387.jpg', 'A2717.jpg', 'A2732.jpg', 'A1977.jpg', 'A1089.jpg', 'A1180.jpg', 'A1522.jpg', 'A1016.jpg', 'A2892.jpg', 'A1641.jpg', 'A598.jpg', 'A2754.jpg', 'A553.jpg', 'A2256.jpg', 'A1963.jpg', 'A2075.jpg', 'A2319.jpg', 'A1550.jpg', 'A2831.jpg', 'A887.jpg', 'A1618.jpg', 'A74.jpg', 'A2042.jpg', 'A1037.jpg', 'A1987.jpg', 'A300.jpg', 'A408.jpg', 'A2902.jpg', 'A929.jpg', 'A478.jpg', 'A2747.jpg', 'A1528.jpg', 'A1585.jpg', 'A215.jpg', 'A103.jpg', 'A2537.jpg', 'A2155.jpg', 'A962.jpg', 'A205.jpg', 'A1079.jpg', 'A1189.jpg', 'A1673.jpg', 'A392.jpg', 'A1960.jpg', 'A2322.jpg', 'A1640.jpg', 'A1546.jpg', 'A1339.jpg', 'A1864.jpg', 'A1365.jpg', 'A544.jpg', 'A1700.jpg', 'A2325.jpg', 'A1409.jpg', 'A1825.jpg', 'A1364.jpg', 'A2252.jpg', 'A2278.jpg', 'A2148.jpg', 'A864.jpg', 'A2755.jpg', 'A1098.jpg', 'A52.jpg', 'A905.jpg', 'A1801.jpg', 'A108.jpg', 'A982.jpg', 'A677.jpg', 'A326.jpg', 'A2823.jpg', 'A1297.jpg', 'A2080.jpg', 'A77.jpg', 'A1384.jpg', 'A959.jpg', 'A2022.jpg', 'A543.jpg', 'A941.jpg', 'A1577.jpg', 'A809.jpg', 'A260.jpg', 'A2046.jpg', 'A2281.jpg', 'A639.jpg', 'A2123.jpg', 'A2004.jpg', 'A2298.jpg', 'A712.jpg', 'A673.jpg', 'A1301.jpg', 'A654.jpg', 'A2362.jpg', 'A2018.jpg', 'A632.jpg', 'A2146.jpg', 'A335.jpg', 'A2871.jpg', 'A95.jpg', 'A1009.jpg', 'A333.jpg', 'A550.jpg', 'A164.jpg', 'A2574.jpg', 'A1982.jpg', 'A810.jpg', 'A2622.jpg', 'A2601.jpg', 'A480.jpg', 'A634.jpg', 'A2334.jpg', 'A2168.jpg', 'A1781.jpg', 'A2378.jpg', 'A1403.jpg', 'A2048.jpg', 'A596.jpg', 'A1303.jpg', 'A2444.jpg', 'A489.jpg', 'A2128.jpg', 'A584.jpg', 'A2038.jpg', 'A1053.jpg', 'A2368.jpg', 'A732.jpg', 'A2876.jpg', 'A2774.jpg', 'A1850.jpg', 'A1148.jpg', 'A1683.jpg', 'A2659.jpg', 'A402.jpg', 'A1802.jpg', 'A2560.jpg', 'A76.jpg', 'A2715.jpg', 'A1729.jpg', 'A2592.jpg', 'A815.jpg', 'A2558.jpg', 'A2628.jpg', 'A1605.jpg', 'A1520.jpg', 'A1091.jpg', 'A524.jpg', 'A1985.jpg', 'A379.jpg', 'A932.jpg', 'A2877.jpg', 'A2047.jpg', 'A1517.jpg', 'A2222.jpg', 'A724.jpg', 'A698.jpg', 'A2911.jpg', 'A2176.jpg', 'A518.jpg', 'A892.jpg', 'A854.jpg', 'A500.jpg', 'A1766.jpg', 'A109.jpg', 'A2124.jpg', 'A681.jpg', 'A1136.jpg', 'A2686.jpg', 'A1236.jpg', 'A29.jpg', 'A1202.jpg', 'A2107.jpg', 'A2555.jpg', 'A1350.jpg', 'A2958.jpg', 'A1030.jpg', 'A664.jpg', 'A2619.jpg', 'A1699.jpg', 'A2081.jpg', 'A1422.jpg', 'A2771.jpg', 'A384.jpg', 'A1966.jpg', 'A685.jpg', 'A1841.jpg', 'A1072.jpg', 'A1444.jpg', 'A2759.jpg', 'A450.jpg', 'A162.jpg', 'A1576.jpg', 'A2354.jpg', 'A998.jpg', 'A96.jpg', 'A179.jpg', 'A1554.jpg', 'A372.jpg', 'A2167.jpg', 'A2814.jpg', 'A1388.jpg', 'A624.jpg', 'A1523.jpg', 'A2374.jpg', 'A200.jpg', 'A465.jpg', 'A2936.jpg', 'A1305.jpg', 'A348.jpg', 'A2683.jpg', 'A2290.jpg', 'A600.jpg', 'A1856.jpg', 'A1530.jpg', 'A1596.jpg', 'A1713.jpg', 'A2203.jpg', 'A2245.jpg', 'A1054.jpg', 'A431.jpg', 'A940.jpg', 'A130.jpg', 'A1080.jpg', 'A1635.jpg', 'A1367.jpg', 'A1702.jpg', 'A1784.jpg', 'A2880.jpg', 'A1238.jpg', 'A2153.jpg', 'A1140.jpg', 'A1639.jpg', 'A642.jpg', 'A710.jpg', 'A582.jpg', 'A504.jpg', 'A1337.jpg', 'A889.jpg', 'A1894.jpg', 'A1246.jpg', 'A477.jpg', 'A2172.jpg', 'A2532.jpg', 'A2571.jpg', 'A806.jpg', 'A1860.jpg', 'A1568.jpg', 'A2244.jpg', 'A737.jpg', 'A1512.jpg', 'A917.jpg', 'A153.jpg', 'A583.jpg', 'A662.jpg', 'A1917.jpg', 'A265.jpg', 'A486.jpg', 'A2950.jpg', 'A1378.jpg', 'A1274.jpg', 'A2296.jpg', 'A2793.jpg', 'A1502.jpg', 'A2119.jpg', 'A1449.jpg', 'A2693.jpg', 'A293.jpg', 'A1759.jpg', 'A219.jpg', 'A893.jpg', 'A532.jpg', 'A1883.jpg', 'A1401.jpg', 'A1569.jpg', 'A2299.jpg', 'A156.jpg', 'A1792.jpg', 'A1669.jpg', 'A2698.jpg', 'A1033.jpg', 'A1026.jpg', 'A2324.jpg', 'A1929.jpg', 'A564.jpg', 'A2505.jpg', 'A599.jpg', 'A691.jpg', 'A2800.jpg', 'A781.jpg', 'A1983.jpg', 'A1646.jpg', 'A270.jpg', 'A112.jpg', 'A860.jpg', 'A758.jpg', 'A922.jpg', 'A1453.jpg', 'A1021.jpg', 'A1654.jpg', 'A456.jpg', 'A2869.jpg', 'A784.jpg', 'A1835.jpg', 'A1888.jpg', 'A2878.jpg', 'A988.jpg', 'A2504.jpg', 'A494.jpg', 'A2024.jpg', 'A2898.jpg', 'A1222.jpg', 'A2685.jpg', 'A541.jpg', 'A2517.jpg', 'A2131.jpg', 'A2712.jpg', 'A1595.jpg', 'A99.jpg', 'A1789.jpg', 'A2094.jpg', 'A366.jpg', 'A623.jpg', 'A421.jpg', 'A2430.jpg', 'A2033.jpg', 'A182.jpg', 'A2977.jpg', 'A2489.jpg', 'A910.jpg', 'A2235.jpg', 'A1995.jpg', 'A1427.jpg', 'A835.jpg', 'A2467.jpg', 'A2289.jpg', 'A2905.jpg', 'A2422.jpg', 'A224.jpg', 'A1500.jpg', 'A2994.jpg', 'A1283.jpg', 'A2526.jpg', 'A873.jpg', 'A2413.jpg', 'A2350.jpg', 'A908.jpg', 'A356.jpg', 'A1271.jpg', 'A545.jpg', 'A1185.jpg', 'A1327.jpg', 'A2182.jpg', 'A394.jpg', 'A984.jpg', 'A419.jpg', 'A1477.jpg', 'A491.jpg', 'A2409.jpg', 'A2937.jpg', 'A953.jpg', 'A1465.jpg', 'A2928.jpg', 'A1380.jpg', 'A208.jpg', 'A2540.jpg', 'A857.jpg', 'A803.jpg', 'A562.jpg', 'A2568.jpg', 'A1579.jpg', 'A967.jpg', 'A2178.jpg', 'A2170.jpg', 'A1525.jpg', 'A127.jpg', 'A1205.jpg', 'A717.jpg', 'A1842.jpg', 'A885.jpg', 'A2992.jpg', 'A511.jpg', 'A1972.jpg', 'A2307.jpg', 'A2035.jpg', 'A1220.jpg', 'A2637.jpg', 'A1036.jpg', 'A1330.jpg', 'A2071.jpg', 'A1230.jpg', 'A2059.jpg', 'A2545.jpg', 'A1936.jpg', 'A1118.jpg', 'A1545.jpg', 'A362.jpg', 'A1182.jpg', 'A554.jpg', 'A187.jpg', 'A2419.jpg', 'A2803.jpg', 'A2439.jpg', 'A1090.jpg', 'A1470.jpg', 'A1927.jpg', 'A2554.jpg', 'A2934.jpg', 'A2986.jpg', 'A981.jpg', 'A1469.jpg', 'A482.jpg', 'A754.jpg', 'A1123.jpg', 'A1661.jpg', 'A1013.jpg', 'A2315.jpg', 'A2991.jpg', 'A422.jpg', 'A1454.jpg', 'A13.jpg', 'A2966.jpg', 'A2267.jpg', 'A604.jpg', 'A395.jpg', 'A68.jpg', 'A923.jpg', 'A858.jpg', 'A222.jpg', 'A1786.jpg', 'A1776.jpg', 'A2990.jpg', 'A2287.jpg', 'A1192.jpg', 'A135.jpg', 'A2448.jpg', 'A1710.jpg', 'A1600.jpg', 'A1163.jpg', 'A1184.jpg', 'A1368.jpg', 'A247.jpg', 'A2438.jpg', 'A1829.jpg', 'A2901.jpg', 'A2425.jpg', 'A5.jpg', 'A1575.jpg', 'A1903.jpg', 'A1032.jpg', 'A2316.jpg', 'A1446.jpg', 'A1002.jpg', 'A252.jpg', 'A1064.jpg', 'A2447.jpg', 'A2197.jpg', 'A1490.jpg', 'A2428.jpg', 'A291.jpg', 'A1757.jpg', 'A2264.jpg', 'A437.jpg', 'A592.jpg', 'A2973.jpg', 'A714.jpg', 'A425.jpg', 'A2547.jpg', 'A1335.jpg', 'A174.jpg', 'A279.jpg', 'A602.jpg', 'A56.jpg', 'A2772.jpg', 'A2941.jpg', 'A2582.jpg', 'A1288.jpg', 'A2935.jpg', 'A2474.jpg', 'A751.jpg', 'A2846.jpg', 'A578.jpg', 'A519.jpg', 'A2868.jpg', 'A367.jpg', 'A1437.jpg', 'A26.jpg', 'A81.jpg', 'A1455.jpg', 'A613.jpg', 'A2179.jpg', 'A435.jpg', 'A446.jpg', 'A2154.jpg', 'A1731.jpg', 'A676.jpg', 'A2788.jpg', 'A1172.jpg', 'A2746.jpg', 'A440.jpg', 'A2843.jpg', 'A1011.jpg', 'A1203.jpg', 'A2074.jpg', 'A971.jpg', 'A783.jpg', 'A1410.jpg', 'A2023.jpg', 'A1613.jpg', 'A926.jpg', 'A1204.jpg', 'A1775.jpg', 'A57.jpg', 'A2597.jpg', 'A1306.jpg', 'A1081.jpg', 'A1706.jpg', 'A89.jpg', 'A2507.jpg', 'A453.jpg', 'A1506.jpg', 'A377.jpg', 'A1187.jpg', 'A2510.jpg', 'A2813.jpg', 'A1582.jpg', 'A420.jpg', 'A2067.jpg', 'A71.jpg', 'A376.jpg', 'A542.jpg', 'A594.jpg', 'A1488.jpg', 'A829.jpg', 'A430.jpg', 'A1690.jpg', 'A697.jpg', 'A722.jpg', 'A1852.jpg', 'A2827.jpg', 'A1082.jpg', 'A1769.jpg', 'A2357.jpg', 'A1218.jpg', 'A1587.jpg', 'A2195.jpg', 'A1110.jpg', 'A80.jpg', 'A2455.jpg', 'A229.jpg', 'A121.jpg', 'A28.jpg', 'A2030.jpg', 'A936.jpg', 'A2663.jpg', 'A1466.jpg', 'A403.jpg', 'A271.jpg', 'A2488.jpg', 'A1121.jpg', 'A1.jpg', 'A797.jpg', 'A1589.jpg', 'A1199.jpg', 'A1601.jpg', 'A232.jpg', 'A997.jpg', 'A1132.jpg', 'A1198.jpg', 'A459.jpg', 'A1046.jpg', 'A653.jpg', 'A1143.jpg', 'A495.jpg', 'A429.jpg', 'A2098.jpg', 'A90.jpg', 'A236.jpg', 'A339.jpg', 'A2282.jpg', 'A2590.jpg', 'A1232.jpg', 'A2885.jpg', 'A1075.jpg', 'A977.jpg', 'A2483.jpg', 'A1534.jpg', 'A42.jpg', 'A336.jpg', 'A2764.jpg', 'A1085.jpg', 'A192.jpg', 'A944.jpg', 'A2243.jpg', 'A752.jpg', 'A484.jpg', 'A257.jpg', 'A2329.jpg', 'A1599.jpg', 'A1342.jpg', 'A33.jpg', 'A2199.jpg', 'A995.jpg', 'A1964.jpg', 'A123.jpg', 'A2340.jpg', 'A2417.jpg', 'A1094.jpg', 'A631.jpg', 'A1532.jpg', 'A2924.jpg', 'A1584.jpg', 'A2561.jpg', 'A2916.jpg', 'A197.jpg', 'A2006.jpg', 'A1533.jpg', 'A606.jpg', 'A264.jpg', 'A787.jpg', 'A2186.jpg', 'A727.jpg', 'A2343.jpg', 'A689.jpg', 'A2631.jpg', 'A1954.jpg', 'A2426.jpg', 'A968.jpg', 'A765.jpg', 'A2339.jpg', 'A1734.jpg', 'A406.jpg', 'A2361.jpg', 'A2575.jpg', 'A30.jpg', 'A1758.jpg', 'A1287.jpg', 'A735.jpg', 'A1174.jpg', 'A2896.jpg', 'A2158.jpg', 'A2829.jpg', 'A390.jpg', 'A2677.jpg', 'A2113.jpg', 'A2376.jpg', 'A1024.jpg', 'A1108.jpg', 'A469.jpg', 'A2492.jpg', 'A508.jpg', 'A2768.jpg', 'A2595.jpg', 'A2576.jpg', 'A1179.jpg', 'A1112.jpg', 'A1761.jpg', 'A2643.jpg', 'A1830.jpg', 'A2744.jpg', 'A1480.jpg', 'A2310.jpg', 'A2266.jpg', 'A1473.jpg', 'A2284.jpg', 'A2494.jpg', 'A488.jpg', 'A2783.jpg', 'A251.jpg', 'A2985.jpg', 'A2028.jpg', 'A1056.jpg', 'A399.jpg', 'A1396.jpg', 'A1701.jpg', 'A2351.jpg', 'A2382.jpg', 'A2061.jpg', 'A763.jpg', 'A447.jpg', 'A772.jpg', 'A139.jpg', 'A868.jpg', 'A505.jpg', 'A1086.jpg', 'A1029.jpg', 'A589.jpg', 'A1113.jpg', 'A2938.jpg', 'A645.jpg', 'A1953.jpg', 'A311.jpg', 'A1492.jpg', 'A2691.jpg', 'A1889.jpg', 'A1349.jpg']\n"
          ]
        }
      ]
    },
    {
      "cell_type": "code",
      "source": [
        "!pip install opencv-python mediapipe numpy tensorflow"
      ],
      "metadata": {
        "colab": {
          "base_uri": "https://localhost:8080/"
        },
        "collapsed": true,
        "id": "lShUa7wExL5c",
        "outputId": "159a78d4-3708-4fc0-b96e-37f9f57448b5"
      },
      "execution_count": 8,
      "outputs": [
        {
          "output_type": "stream",
          "name": "stdout",
          "text": [
            "Requirement already satisfied: opencv-python in /usr/local/lib/python3.11/dist-packages (4.11.0.86)\n",
            "Collecting mediapipe\n",
            "  Downloading mediapipe-0.10.21-cp311-cp311-manylinux_2_28_x86_64.whl.metadata (9.7 kB)\n",
            "Requirement already satisfied: numpy in /usr/local/lib/python3.11/dist-packages (2.0.2)\n",
            "Requirement already satisfied: tensorflow in /usr/local/lib/python3.11/dist-packages (2.18.0)\n",
            "Requirement already satisfied: absl-py in /usr/local/lib/python3.11/dist-packages (from mediapipe) (1.4.0)\n",
            "Requirement already satisfied: attrs>=19.1.0 in /usr/local/lib/python3.11/dist-packages (from mediapipe) (25.3.0)\n",
            "Requirement already satisfied: flatbuffers>=2.0 in /usr/local/lib/python3.11/dist-packages (from mediapipe) (25.2.10)\n",
            "Requirement already satisfied: jax in /usr/local/lib/python3.11/dist-packages (from mediapipe) (0.5.2)\n",
            "Requirement already satisfied: jaxlib in /usr/local/lib/python3.11/dist-packages (from mediapipe) (0.5.1)\n",
            "Requirement already satisfied: matplotlib in /usr/local/lib/python3.11/dist-packages (from mediapipe) (3.10.0)\n",
            "Collecting numpy\n",
            "  Downloading numpy-1.26.4-cp311-cp311-manylinux_2_17_x86_64.manylinux2014_x86_64.whl.metadata (61 kB)\n",
            "\u001b[2K     \u001b[90m━━━━━━━━━━━━━━━━━━━━━━━━━━━━━━━━━━━━━━━━\u001b[0m \u001b[32m61.0/61.0 kB\u001b[0m \u001b[31m3.5 MB/s\u001b[0m eta \u001b[36m0:00:00\u001b[0m\n",
            "\u001b[?25hRequirement already satisfied: opencv-contrib-python in /usr/local/lib/python3.11/dist-packages (from mediapipe) (4.11.0.86)\n",
            "Collecting protobuf<5,>=4.25.3 (from mediapipe)\n",
            "  Downloading protobuf-4.25.6-cp37-abi3-manylinux2014_x86_64.whl.metadata (541 bytes)\n",
            "Collecting sounddevice>=0.4.4 (from mediapipe)\n",
            "  Downloading sounddevice-0.5.1-py3-none-any.whl.metadata (1.4 kB)\n",
            "Requirement already satisfied: sentencepiece in /usr/local/lib/python3.11/dist-packages (from mediapipe) (0.2.0)\n",
            "Requirement already satisfied: astunparse>=1.6.0 in /usr/local/lib/python3.11/dist-packages (from tensorflow) (1.6.3)\n",
            "Requirement already satisfied: gast!=0.5.0,!=0.5.1,!=0.5.2,>=0.2.1 in /usr/local/lib/python3.11/dist-packages (from tensorflow) (0.6.0)\n",
            "Requirement already satisfied: google-pasta>=0.1.1 in /usr/local/lib/python3.11/dist-packages (from tensorflow) (0.2.0)\n",
            "Requirement already satisfied: libclang>=13.0.0 in /usr/local/lib/python3.11/dist-packages (from tensorflow) (18.1.1)\n",
            "Requirement already satisfied: opt-einsum>=2.3.2 in /usr/local/lib/python3.11/dist-packages (from tensorflow) (3.4.0)\n",
            "Requirement already satisfied: packaging in /usr/local/lib/python3.11/dist-packages (from tensorflow) (24.2)\n",
            "Requirement already satisfied: requests<3,>=2.21.0 in /usr/local/lib/python3.11/dist-packages (from tensorflow) (2.32.3)\n",
            "Requirement already satisfied: setuptools in /usr/local/lib/python3.11/dist-packages (from tensorflow) (75.1.0)\n",
            "Requirement already satisfied: six>=1.12.0 in /usr/local/lib/python3.11/dist-packages (from tensorflow) (1.17.0)\n",
            "Requirement already satisfied: termcolor>=1.1.0 in /usr/local/lib/python3.11/dist-packages (from tensorflow) (2.5.0)\n",
            "Requirement already satisfied: typing-extensions>=3.6.6 in /usr/local/lib/python3.11/dist-packages (from tensorflow) (4.12.2)\n",
            "Requirement already satisfied: wrapt>=1.11.0 in /usr/local/lib/python3.11/dist-packages (from tensorflow) (1.17.2)\n",
            "Requirement already satisfied: grpcio<2.0,>=1.24.3 in /usr/local/lib/python3.11/dist-packages (from tensorflow) (1.71.0)\n",
            "Requirement already satisfied: tensorboard<2.19,>=2.18 in /usr/local/lib/python3.11/dist-packages (from tensorflow) (2.18.0)\n",
            "Requirement already satisfied: keras>=3.5.0 in /usr/local/lib/python3.11/dist-packages (from tensorflow) (3.8.0)\n",
            "Requirement already satisfied: h5py>=3.11.0 in /usr/local/lib/python3.11/dist-packages (from tensorflow) (3.13.0)\n",
            "Requirement already satisfied: ml-dtypes<0.5.0,>=0.4.0 in /usr/local/lib/python3.11/dist-packages (from tensorflow) (0.4.1)\n",
            "Requirement already satisfied: tensorflow-io-gcs-filesystem>=0.23.1 in /usr/local/lib/python3.11/dist-packages (from tensorflow) (0.37.1)\n",
            "Requirement already satisfied: wheel<1.0,>=0.23.0 in /usr/local/lib/python3.11/dist-packages (from astunparse>=1.6.0->tensorflow) (0.45.1)\n",
            "Requirement already satisfied: rich in /usr/local/lib/python3.11/dist-packages (from keras>=3.5.0->tensorflow) (13.9.4)\n",
            "Requirement already satisfied: namex in /usr/local/lib/python3.11/dist-packages (from keras>=3.5.0->tensorflow) (0.0.8)\n",
            "Requirement already satisfied: optree in /usr/local/lib/python3.11/dist-packages (from keras>=3.5.0->tensorflow) (0.14.1)\n",
            "Requirement already satisfied: charset-normalizer<4,>=2 in /usr/local/lib/python3.11/dist-packages (from requests<3,>=2.21.0->tensorflow) (3.4.1)\n",
            "Requirement already satisfied: idna<4,>=2.5 in /usr/local/lib/python3.11/dist-packages (from requests<3,>=2.21.0->tensorflow) (3.10)\n",
            "Requirement already satisfied: urllib3<3,>=1.21.1 in /usr/local/lib/python3.11/dist-packages (from requests<3,>=2.21.0->tensorflow) (2.3.0)\n",
            "Requirement already satisfied: certifi>=2017.4.17 in /usr/local/lib/python3.11/dist-packages (from requests<3,>=2.21.0->tensorflow) (2025.1.31)\n",
            "Requirement already satisfied: CFFI>=1.0 in /usr/local/lib/python3.11/dist-packages (from sounddevice>=0.4.4->mediapipe) (1.17.1)\n",
            "Requirement already satisfied: markdown>=2.6.8 in /usr/local/lib/python3.11/dist-packages (from tensorboard<2.19,>=2.18->tensorflow) (3.7)\n",
            "Requirement already satisfied: tensorboard-data-server<0.8.0,>=0.7.0 in /usr/local/lib/python3.11/dist-packages (from tensorboard<2.19,>=2.18->tensorflow) (0.7.2)\n",
            "Requirement already satisfied: werkzeug>=1.0.1 in /usr/local/lib/python3.11/dist-packages (from tensorboard<2.19,>=2.18->tensorflow) (3.1.3)\n",
            "Requirement already satisfied: scipy>=1.11.1 in /usr/local/lib/python3.11/dist-packages (from jax->mediapipe) (1.14.1)\n",
            "Requirement already satisfied: contourpy>=1.0.1 in /usr/local/lib/python3.11/dist-packages (from matplotlib->mediapipe) (1.3.1)\n",
            "Requirement already satisfied: cycler>=0.10 in /usr/local/lib/python3.11/dist-packages (from matplotlib->mediapipe) (0.12.1)\n",
            "Requirement already satisfied: fonttools>=4.22.0 in /usr/local/lib/python3.11/dist-packages (from matplotlib->mediapipe) (4.56.0)\n",
            "Requirement already satisfied: kiwisolver>=1.3.1 in /usr/local/lib/python3.11/dist-packages (from matplotlib->mediapipe) (1.4.8)\n",
            "Requirement already satisfied: pillow>=8 in /usr/local/lib/python3.11/dist-packages (from matplotlib->mediapipe) (11.1.0)\n",
            "Requirement already satisfied: pyparsing>=2.3.1 in /usr/local/lib/python3.11/dist-packages (from matplotlib->mediapipe) (3.2.1)\n",
            "Requirement already satisfied: python-dateutil>=2.7 in /usr/local/lib/python3.11/dist-packages (from matplotlib->mediapipe) (2.8.2)\n",
            "Requirement already satisfied: pycparser in /usr/local/lib/python3.11/dist-packages (from CFFI>=1.0->sounddevice>=0.4.4->mediapipe) (2.22)\n",
            "Requirement already satisfied: MarkupSafe>=2.1.1 in /usr/local/lib/python3.11/dist-packages (from werkzeug>=1.0.1->tensorboard<2.19,>=2.18->tensorflow) (3.0.2)\n",
            "Requirement already satisfied: markdown-it-py>=2.2.0 in /usr/local/lib/python3.11/dist-packages (from rich->keras>=3.5.0->tensorflow) (3.0.0)\n",
            "Requirement already satisfied: pygments<3.0.0,>=2.13.0 in /usr/local/lib/python3.11/dist-packages (from rich->keras>=3.5.0->tensorflow) (2.18.0)\n",
            "Requirement already satisfied: mdurl~=0.1 in /usr/local/lib/python3.11/dist-packages (from markdown-it-py>=2.2.0->rich->keras>=3.5.0->tensorflow) (0.1.2)\n",
            "Downloading mediapipe-0.10.21-cp311-cp311-manylinux_2_28_x86_64.whl (35.6 MB)\n",
            "\u001b[2K   \u001b[90m━━━━━━━━━━━━━━━━━━━━━━━━━━━━━━━━━━━━━━━━\u001b[0m \u001b[32m35.6/35.6 MB\u001b[0m \u001b[31m15.2 MB/s\u001b[0m eta \u001b[36m0:00:00\u001b[0m\n",
            "\u001b[?25hDownloading numpy-1.26.4-cp311-cp311-manylinux_2_17_x86_64.manylinux2014_x86_64.whl (18.3 MB)\n",
            "\u001b[2K   \u001b[90m━━━━━━━━━━━━━━━━━━━━━━━━━━━━━━━━━━━━━━━━\u001b[0m \u001b[32m18.3/18.3 MB\u001b[0m \u001b[31m55.8 MB/s\u001b[0m eta \u001b[36m0:00:00\u001b[0m\n",
            "\u001b[?25hDownloading protobuf-4.25.6-cp37-abi3-manylinux2014_x86_64.whl (294 kB)\n",
            "\u001b[2K   \u001b[90m━━━━━━━━━━━━━━━━━━━━━━━━━━━━━━━━━━━━━━━━\u001b[0m \u001b[32m294.6/294.6 kB\u001b[0m \u001b[31m24.7 MB/s\u001b[0m eta \u001b[36m0:00:00\u001b[0m\n",
            "\u001b[?25hDownloading sounddevice-0.5.1-py3-none-any.whl (32 kB)\n",
            "Installing collected packages: protobuf, numpy, sounddevice, mediapipe\n",
            "  Attempting uninstall: protobuf\n",
            "    Found existing installation: protobuf 5.29.3\n",
            "    Uninstalling protobuf-5.29.3:\n",
            "      Successfully uninstalled protobuf-5.29.3\n",
            "  Attempting uninstall: numpy\n",
            "    Found existing installation: numpy 2.0.2\n",
            "    Uninstalling numpy-2.0.2:\n",
            "      Successfully uninstalled numpy-2.0.2\n",
            "\u001b[31mERROR: pip's dependency resolver does not currently take into account all the packages that are installed. This behaviour is the source of the following dependency conflicts.\n",
            "grpcio-status 1.71.0 requires protobuf<6.0dev,>=5.26.1, but you have protobuf 4.25.6 which is incompatible.\u001b[0m\u001b[31m\n",
            "\u001b[0mSuccessfully installed mediapipe-0.10.21 numpy-1.26.4 protobuf-4.25.6 sounddevice-0.5.1\n"
          ]
        }
      ]
    },
    {
      "source": [
        "!pip install --upgrade scipy"
      ],
      "cell_type": "code",
      "metadata": {
        "colab": {
          "base_uri": "https://localhost:8080/"
        },
        "collapsed": true,
        "id": "0sZ_GNIAydHY",
        "outputId": "03f6b971-9086-457d-fc7b-f04636c7d9cb"
      },
      "execution_count": 9,
      "outputs": [
        {
          "output_type": "stream",
          "name": "stdout",
          "text": [
            "Requirement already satisfied: scipy in /usr/local/lib/python3.11/dist-packages (1.14.1)\n",
            "Collecting scipy\n",
            "  Downloading scipy-1.15.2-cp311-cp311-manylinux_2_17_x86_64.manylinux2014_x86_64.whl.metadata (61 kB)\n",
            "\u001b[2K     \u001b[90m━━━━━━━━━━━━━━━━━━━━━━━━━━━━━━━━━━━━━━━━\u001b[0m \u001b[32m62.0/62.0 kB\u001b[0m \u001b[31m2.9 MB/s\u001b[0m eta \u001b[36m0:00:00\u001b[0m\n",
            "\u001b[?25hRequirement already satisfied: numpy<2.5,>=1.23.5 in /usr/local/lib/python3.11/dist-packages (from scipy) (1.26.4)\n",
            "Downloading scipy-1.15.2-cp311-cp311-manylinux_2_17_x86_64.manylinux2014_x86_64.whl (37.6 MB)\n",
            "\u001b[2K   \u001b[90m━━━━━━━━━━━━━━━━━━━━━━━━━━━━━━━━━━━━━━━━\u001b[0m \u001b[32m37.6/37.6 MB\u001b[0m \u001b[31m10.7 MB/s\u001b[0m eta \u001b[36m0:00:00\u001b[0m\n",
            "\u001b[?25hInstalling collected packages: scipy\n",
            "  Attempting uninstall: scipy\n",
            "    Found existing installation: scipy 1.14.1\n",
            "    Uninstalling scipy-1.14.1:\n",
            "      Successfully uninstalled scipy-1.14.1\n",
            "Successfully installed scipy-1.15.2\n"
          ]
        }
      ]
    },
    {
      "cell_type": "code",
      "source": [
        "!pip uninstall -y numpy\n"
      ],
      "metadata": {
        "colab": {
          "base_uri": "https://localhost:8080/"
        },
        "id": "kmdDk8L60gei",
        "outputId": "f6b5bd65-d04e-49c9-c02c-221f7fbde22b"
      },
      "execution_count": 10,
      "outputs": [
        {
          "output_type": "stream",
          "name": "stdout",
          "text": [
            "Found existing installation: numpy 1.26.4\n",
            "Uninstalling numpy-1.26.4:\n",
            "  Successfully uninstalled numpy-1.26.4\n"
          ]
        }
      ]
    },
    {
      "cell_type": "code",
      "source": [
        "!pip install numpy==1.26.4\n"
      ],
      "metadata": {
        "colab": {
          "base_uri": "https://localhost:8080/"
        },
        "id": "hrFUMcKF0iHM",
        "outputId": "10b3c9e7-4b52-40fb-ace0-cd19bde25e80"
      },
      "execution_count": 11,
      "outputs": [
        {
          "output_type": "stream",
          "name": "stdout",
          "text": [
            "Collecting numpy==1.26.4\n",
            "  Using cached numpy-1.26.4-cp311-cp311-manylinux_2_17_x86_64.manylinux2014_x86_64.whl.metadata (61 kB)\n",
            "Using cached numpy-1.26.4-cp311-cp311-manylinux_2_17_x86_64.manylinux2014_x86_64.whl (18.3 MB)\n",
            "Installing collected packages: numpy\n",
            "Successfully installed numpy-1.26.4\n"
          ]
        }
      ]
    },
    {
      "cell_type": "code",
      "source": [
        "def load_data():\n",
        "    images, labels = [], []\n",
        "    if not os.path.exists(DATASET_PATH):\n",
        "        print(f\"Error: Dataset path '{DATASET_PATH}' does not exist.\")\n",
        "        return np.array([]), np.array([]), []\n",
        "\n",
        "    class_names = sorted(os.listdir(DATASET_PATH))\n",
        "    if not class_names:\n",
        "        print(\"Error: No class folders found in dataset.\")\n",
        "        return np.array([]), np.array([]), []\n",
        "\n",
        "    label_map = {class_name: idx for idx, class_name in enumerate(class_names)}\n",
        "\n",
        "    for class_name in class_names:\n",
        "        class_path = os.path.join(DATASET_PATH, class_name)\n",
        "        if not os.path.isdir(class_path):\n",
        "            print(f\"Warning: {class_path} is not a directory.\")\n",
        "            continue  # Skip if it's not a directory\n",
        "\n",
        "        for img_name in os.listdir(class_path):\n",
        "            img_path = os.path.join(class_path, img_name)\n",
        "            img = cv2.imread(img_path)\n",
        "            if img is None:\n",
        "                print(f\"Failed to load image: {img_path}\")\n",
        "                continue  # Skip corrupt images\n",
        "\n",
        "            img = cv2.resize(img, (IMG_SIZE, IMG_SIZE))\n",
        "            images.append(img)\n",
        "            labels.append(label_map[class_name])\n",
        "\n",
        "    if not images:\n",
        "        print(\"Error: No images loaded. Check dataset path.\")\n",
        "\n",
        "    return np.array(images) / 255.0, np.array(labels), class_names\n",
        "\n"
      ],
      "metadata": {
        "id": "85X76iqI1bCc"
      },
      "execution_count": 12,
      "outputs": []
    },
    {
      "source": [
        "import os\n",
        "import numpy as np\n",
        "import cv2\n",
        "import tensorflow as tf\n",
        "import mediapipe as mp\n",
        "from tensorflow.keras.models import Sequential\n",
        "from tensorflow.keras.layers import Conv2D, MaxPooling2D, Flatten, Dense, Dropout\n",
        "from tensorflow.keras.preprocessing.image import ImageDataGenerator\n",
        "\n",
        "# Define Paths\n",
        "DATASET_PATH = \"/content/asl-alphabet/asl_alphabet_train\"\n",
        "IMG_SIZE = 100  # Reduce size if needed\n",
        "BATCH_SIZE = 32  # Adjust based on RAM\n",
        "\n",
        "# Data Generator (Loads images in batches)\n",
        "datagen = ImageDataGenerator(rescale=1.0/255.0, validation_split=0.2)\n",
        "\n",
        "train_generator = datagen.flow_from_directory(\n",
        "    DATASET_PATH,\n",
        "    target_size=(IMG_SIZE, IMG_SIZE),\n",
        "    batch_size=BATCH_SIZE,\n",
        "    class_mode=\"sparse\",\n",
        "    subset=\"training\"\n",
        ")\n",
        "\n",
        "val_generator = datagen.flow_from_directory(\n",
        "    DATASET_PATH,\n",
        "    target_size=(IMG_SIZE, IMG_SIZE),\n",
        "    batch_size=BATCH_SIZE,\n",
        "    class_mode=\"sparse\",\n",
        "    subset=\"validation\"\n",
        ")\n",
        "\n",
        "# Build CNN Model\n",
        "model = Sequential([\n",
        "    Conv2D(32, (3,3), activation='relu', input_shape=(IMG_SIZE, IMG_SIZE, 3)),\n",
        "    MaxPooling2D(2,2),\n",
        "    Conv2D(64, (3,3), activation='relu'),\n",
        "    MaxPooling2D(2,2),\n",
        "    Flatten(),\n",
        "    Dense(128, activation='relu'),\n",
        "    Dropout(0.5),\n",
        "    Dense(train_generator.num_classes, activation='softmax')\n",
        "])\n",
        "\n",
        "model.compile(optimizer='adam', loss='sparse_categorical_crossentropy', metrics=['accuracy'])\n",
        "\n",
        "# Train Model Using Data Generator\n",
        "model.fit(train_generator, validation_data=val_generator, epochs=10)\n",
        "\n",
        "# Save Model Locally\n",
        "model.save(\"/content/asl_model.h5\")\n",
        "print(\"Model trained and saved at /content/asl_model.h5\")\n",
        "\n",
        "# Load Model for Prediction\n",
        "model = tf.keras.models.load_model(\"/content/asl_model.h5\")\n",
        "\n",
        "# Hand Tracking with MediaPipe\n",
        "mp_hands = mp.solutions.hands\n",
        "hands = mp_hands.Hands(min_detection_confidence=0.5, min_tracking_confidence=0.5)\n",
        "mp_draw = mp.solutions.drawing_utils\n",
        "\n",
        "# Function to Predict ASL Gesture\n",
        "def predict_image(image_path):\n",
        "    img = cv2.imread(image_path)\n",
        "    if img is None:\n",
        "        print(f\"Error: Could not load image at {image_path}\")\n",
        "        return\n",
        "\n",
        "    img = cv2.resize(img, (IMG_SIZE, IMG_SIZE))\n",
        "    img = np.array(img) / 255.0\n",
        "    img = np.expand_dims(img, axis=0)  # Reshape for model input\n",
        "\n",
        "    prediction = model.predict(img)\n",
        "    predicted_class = np.argmax(prediction)\n",
        "\n",
        "    print(f\"Predicted ASL Gesture: {train_generator.class_indices[predicted_class]}\")\n",
        "\n",
        "# Test with an Image\n",
        "predict_image(\"/content/asl-alphabet/asl_alphabet_test/A/A1.jpg\")  # Replace with a valid test image path\n"
      ],
      "cell_type": "code",
      "metadata": {
        "colab": {
          "base_uri": "https://localhost:8080/"
        },
        "id": "h7K4Vhv1VfgP",
        "outputId": "06b3f090-8dc1-4b1a-d94f-8ef391cb0372"
      },
      "execution_count": 13,
      "outputs": [
        {
          "output_type": "stream",
          "name": "stdout",
          "text": [
            "Found 69600 images belonging to 1 classes.\n",
            "Found 17400 images belonging to 1 classes.\n"
          ]
        },
        {
          "output_type": "stream",
          "name": "stderr",
          "text": [
            "/usr/local/lib/python3.11/dist-packages/keras/src/layers/convolutional/base_conv.py:107: UserWarning: Do not pass an `input_shape`/`input_dim` argument to a layer. When using Sequential models, prefer using an `Input(shape)` object as the first layer in the model instead.\n",
            "  super().__init__(activity_regularizer=activity_regularizer, **kwargs)\n"
          ]
        },
        {
          "output_type": "stream",
          "name": "stdout",
          "text": [
            "Epoch 1/10\n"
          ]
        },
        {
          "output_type": "stream",
          "name": "stderr",
          "text": [
            "/usr/local/lib/python3.11/dist-packages/keras/src/trainers/data_adapters/py_dataset_adapter.py:121: UserWarning: Your `PyDataset` class should call `super().__init__(**kwargs)` in its constructor. `**kwargs` can include `workers`, `use_multiprocessing`, `max_queue_size`. Do not pass these arguments to `fit()`, as they will be ignored.\n",
            "  self._warn_if_super_not_called()\n",
            "/usr/local/lib/python3.11/dist-packages/keras/src/ops/nn.py:907: UserWarning: You are using a softmax over axis -1 of a tensor of shape (None, 1). This axis has size 1. The softmax operation will always return the value 1, which is likely not what you intended. Did you mean to use a sigmoid instead?\n",
            "  warnings.warn(\n"
          ]
        },
        {
          "output_type": "stream",
          "name": "stdout",
          "text": [
            "\u001b[1m2175/2175\u001b[0m \u001b[32m━━━━━━━━━━━━━━━━━━━━\u001b[0m\u001b[37m\u001b[0m \u001b[1m81s\u001b[0m 35ms/step - accuracy: 0.0000e+00 - loss: 0.0000e+00 - val_accuracy: 0.0000e+00 - val_loss: 0.0000e+00\n",
            "Epoch 2/10\n",
            "\u001b[1m2175/2175\u001b[0m \u001b[32m━━━━━━━━━━━━━━━━━━━━\u001b[0m\u001b[37m\u001b[0m \u001b[1m80s\u001b[0m 37ms/step - accuracy: 0.0000e+00 - loss: 0.0000e+00 - val_accuracy: 0.0000e+00 - val_loss: 0.0000e+00\n",
            "Epoch 3/10\n",
            "\u001b[1m2175/2175\u001b[0m \u001b[32m━━━━━━━━━━━━━━━━━━━━\u001b[0m\u001b[37m\u001b[0m \u001b[1m72s\u001b[0m 32ms/step - accuracy: 0.0000e+00 - loss: 0.0000e+00 - val_accuracy: 0.0000e+00 - val_loss: 0.0000e+00\n",
            "Epoch 4/10\n",
            "\u001b[1m2175/2175\u001b[0m \u001b[32m━━━━━━━━━━━━━━━━━━━━\u001b[0m\u001b[37m\u001b[0m \u001b[1m71s\u001b[0m 33ms/step - accuracy: 0.0000e+00 - loss: 0.0000e+00 - val_accuracy: 0.0000e+00 - val_loss: 0.0000e+00\n",
            "Epoch 5/10\n",
            "\u001b[1m2175/2175\u001b[0m \u001b[32m━━━━━━━━━━━━━━━━━━━━\u001b[0m\u001b[37m\u001b[0m \u001b[1m70s\u001b[0m 32ms/step - accuracy: 0.0000e+00 - loss: 0.0000e+00 - val_accuracy: 0.0000e+00 - val_loss: 0.0000e+00\n",
            "Epoch 6/10\n",
            "\u001b[1m2175/2175\u001b[0m \u001b[32m━━━━━━━━━━━━━━━━━━━━\u001b[0m\u001b[37m\u001b[0m \u001b[1m70s\u001b[0m 32ms/step - accuracy: 0.0000e+00 - loss: 0.0000e+00 - val_accuracy: 0.0000e+00 - val_loss: 0.0000e+00\n",
            "Epoch 7/10\n",
            "\u001b[1m2175/2175\u001b[0m \u001b[32m━━━━━━━━━━━━━━━━━━━━\u001b[0m\u001b[37m\u001b[0m \u001b[1m72s\u001b[0m 33ms/step - accuracy: 0.0000e+00 - loss: 0.0000e+00 - val_accuracy: 0.0000e+00 - val_loss: 0.0000e+00\n",
            "Epoch 8/10\n",
            "\u001b[1m2175/2175\u001b[0m \u001b[32m━━━━━━━━━━━━━━━━━━━━\u001b[0m\u001b[37m\u001b[0m \u001b[1m72s\u001b[0m 33ms/step - accuracy: 0.0000e+00 - loss: 0.0000e+00 - val_accuracy: 0.0000e+00 - val_loss: 0.0000e+00\n",
            "Epoch 9/10\n",
            "\u001b[1m2175/2175\u001b[0m \u001b[32m━━━━━━━━━━━━━━━━━━━━\u001b[0m\u001b[37m\u001b[0m \u001b[1m73s\u001b[0m 33ms/step - accuracy: 0.0000e+00 - loss: 0.0000e+00 - val_accuracy: 0.0000e+00 - val_loss: 0.0000e+00\n",
            "Epoch 10/10\n",
            "\u001b[1m2175/2175\u001b[0m \u001b[32m━━━━━━━━━━━━━━━━━━━━\u001b[0m\u001b[37m\u001b[0m \u001b[1m71s\u001b[0m 33ms/step - accuracy: 0.0000e+00 - loss: 0.0000e+00 - val_accuracy: 0.0000e+00 - val_loss: 0.0000e+00\n"
          ]
        },
        {
          "output_type": "stream",
          "name": "stderr",
          "text": [
            "WARNING:absl:You are saving your model as an HDF5 file via `model.save()` or `keras.saving.save_model(model)`. This file format is considered legacy. We recommend using instead the native Keras format, e.g. `model.save('my_model.keras')` or `keras.saving.save_model(model, 'my_model.keras')`. \n",
            "WARNING:absl:Compiled the loaded model, but the compiled metrics have yet to be built. `model.compile_metrics` will be empty until you train or evaluate the model.\n"
          ]
        },
        {
          "output_type": "stream",
          "name": "stdout",
          "text": [
            "Model trained and saved at /content/asl_model.h5\n",
            "Error: Could not load image at /content/asl-alphabet/asl_alphabet_test/A/A1.jpg\n"
          ]
        }
      ]
    },
    {
      "cell_type": "code",
      "source": [
        "X, y, class_names = load_data()\n",
        "print(f\"Loaded {len(X)} images with {len(class_names)} classes.\")\n"
      ],
      "metadata": {
        "id": "oN456wNu1n1k",
        "colab": {
          "base_uri": "https://localhost:8080/"
        },
        "outputId": "3687a7e4-888a-44d8-d922-57962295404c"
      },
      "execution_count": 14,
      "outputs": [
        {
          "output_type": "stream",
          "name": "stdout",
          "text": [
            "Failed to load image: /content/asl-alphabet/asl_alphabet_train/asl_alphabet_train/del\n",
            "Failed to load image: /content/asl-alphabet/asl_alphabet_train/asl_alphabet_train/J\n",
            "Failed to load image: /content/asl-alphabet/asl_alphabet_train/asl_alphabet_train/F\n",
            "Failed to load image: /content/asl-alphabet/asl_alphabet_train/asl_alphabet_train/Z\n",
            "Failed to load image: /content/asl-alphabet/asl_alphabet_train/asl_alphabet_train/S\n",
            "Failed to load image: /content/asl-alphabet/asl_alphabet_train/asl_alphabet_train/H\n",
            "Failed to load image: /content/asl-alphabet/asl_alphabet_train/asl_alphabet_train/Q\n",
            "Failed to load image: /content/asl-alphabet/asl_alphabet_train/asl_alphabet_train/Y\n",
            "Failed to load image: /content/asl-alphabet/asl_alphabet_train/asl_alphabet_train/T\n",
            "Failed to load image: /content/asl-alphabet/asl_alphabet_train/asl_alphabet_train/nothing\n",
            "Failed to load image: /content/asl-alphabet/asl_alphabet_train/asl_alphabet_train/V\n",
            "Failed to load image: /content/asl-alphabet/asl_alphabet_train/asl_alphabet_train/B\n",
            "Failed to load image: /content/asl-alphabet/asl_alphabet_train/asl_alphabet_train/P\n",
            "Failed to load image: /content/asl-alphabet/asl_alphabet_train/asl_alphabet_train/U\n",
            "Failed to load image: /content/asl-alphabet/asl_alphabet_train/asl_alphabet_train/L\n",
            "Failed to load image: /content/asl-alphabet/asl_alphabet_train/asl_alphabet_train/I\n",
            "Failed to load image: /content/asl-alphabet/asl_alphabet_train/asl_alphabet_train/N\n",
            "Failed to load image: /content/asl-alphabet/asl_alphabet_train/asl_alphabet_train/M\n",
            "Failed to load image: /content/asl-alphabet/asl_alphabet_train/asl_alphabet_train/O\n",
            "Failed to load image: /content/asl-alphabet/asl_alphabet_train/asl_alphabet_train/D\n",
            "Failed to load image: /content/asl-alphabet/asl_alphabet_train/asl_alphabet_train/X\n",
            "Failed to load image: /content/asl-alphabet/asl_alphabet_train/asl_alphabet_train/C\n",
            "Failed to load image: /content/asl-alphabet/asl_alphabet_train/asl_alphabet_train/W\n",
            "Failed to load image: /content/asl-alphabet/asl_alphabet_train/asl_alphabet_train/K\n",
            "Failed to load image: /content/asl-alphabet/asl_alphabet_train/asl_alphabet_train/space\n",
            "Failed to load image: /content/asl-alphabet/asl_alphabet_train/asl_alphabet_train/A\n",
            "Failed to load image: /content/asl-alphabet/asl_alphabet_train/asl_alphabet_train/R\n",
            "Failed to load image: /content/asl-alphabet/asl_alphabet_train/asl_alphabet_train/E\n",
            "Failed to load image: /content/asl-alphabet/asl_alphabet_train/asl_alphabet_train/G\n",
            "Error: No images loaded. Check dataset path.\n",
            "Loaded 0 images with 1 classes.\n"
          ]
        }
      ]
    },
    {
      "cell_type": "code",
      "source": [
        "print(\"Classes detected:\", train_generator.class_indices)\n"
      ],
      "metadata": {
        "colab": {
          "base_uri": "https://localhost:8080/"
        },
        "id": "8trjbyx0S7WU",
        "outputId": "23c2597b-028a-4d69-db66-66a318a51d84"
      },
      "execution_count": 15,
      "outputs": [
        {
          "output_type": "stream",
          "name": "stdout",
          "text": [
            "Classes detected: {'asl_alphabet_train': 0}\n"
          ]
        }
      ]
    },
    {
      "cell_type": "code",
      "source": [
        "from tensorflow.keras.preprocessing.image import ImageDataGenerator\n",
        "\n",
        "# Define ImageDataGenerator\n",
        "datagen = ImageDataGenerator(\n",
        "    rescale=1.0/255,   # Normalize pixel values\n",
        "    validation_split=0.2 # Splitting into training & validation sets\n",
        ")\n",
        "\n",
        "\n",
        "train_generator = datagen.flow_from_directory(\n",
        "    DATASET_PATH,\n",
        "    target_size=(IMG_SIZE, IMG_SIZE),\n",
        "    batch_size=BATCH_SIZE,\n",
        "    class_mode=\"sparse\",\n",
        "    subset=\"training\"\n",
        ")\n",
        "\n",
        "validation_generator = datagen.flow_from_directory(\n",
        "    DATASET_PATH,\n",
        "    target_size=(IMG_SIZE, IMG_SIZE),\n",
        "    batch_size=BATCH_SIZE,\n",
        "    class_mode=\"sparse\",\n",
        "    subset=\"validation\"\n",
        ")\n",
        "\n"
      ],
      "metadata": {
        "colab": {
          "base_uri": "https://localhost:8080/"
        },
        "id": "RFW7ek1uIjfR",
        "outputId": "6ee86cf7-5a23-43fa-fb30-dde5d6ef6e80"
      },
      "execution_count": 16,
      "outputs": [
        {
          "output_type": "stream",
          "name": "stdout",
          "text": [
            "Found 69600 images belonging to 1 classes.\n",
            "Found 17400 images belonging to 1 classes.\n"
          ]
        }
      ]
    },
    {
      "cell_type": "code",
      "source": [
        "print(\"Classes detected:\", train_generator.class_indices)\n",
        "print(\"Number of classes detected:\", len(train_generator.class_indices))\n"
      ],
      "metadata": {
        "colab": {
          "base_uri": "https://localhost:8080/"
        },
        "id": "uVGZqiYxQpLN",
        "outputId": "4b9e298d-b9ea-4800-db07-563705653802"
      },
      "execution_count": 17,
      "outputs": [
        {
          "output_type": "stream",
          "name": "stdout",
          "text": [
            "Classes detected: {'asl_alphabet_train': 0}\n",
            "Number of classes detected: 1\n"
          ]
        }
      ]
    }
  ]
}